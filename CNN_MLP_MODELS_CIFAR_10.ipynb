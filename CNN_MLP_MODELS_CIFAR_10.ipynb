{
  "nbformat": 4,
  "nbformat_minor": 0,
  "metadata": {
    "colab": {
      "provenance": [],
      "machine_shape": "hm",
      "gpuType": "L4",
      "authorship_tag": "ABX9TyNGLVls6L5KApYrUAAkHC8X",
      "include_colab_link": true
    },
    "kernelspec": {
      "name": "python3",
      "display_name": "Python 3"
    },
    "language_info": {
      "name": "python"
    },
    "accelerator": "GPU"
  },
  "cells": [
    {
      "cell_type": "markdown",
      "metadata": {
        "id": "view-in-github",
        "colab_type": "text"
      },
      "source": [
        "<a href=\"https://colab.research.google.com/github/kinaya18/Deep-Learning/blob/main/CNN_MLP_MODELS_CIFAR_10.ipynb\" target=\"_parent\"><img src=\"https://colab.research.google.com/assets/colab-badge.svg\" alt=\"Open In Colab\"/></a>"
      ]
    },
    {
      "cell_type": "markdown",
      "source": [
        "# **CNN- Models: CIFAR-10**"
      ],
      "metadata": {
        "id": "fLFWWGDI6nTt"
      }
    },
    {
      "cell_type": "markdown",
      "source": [
        "# **Impor Library**"
      ],
      "metadata": {
        "id": "bptANHg3D6JE"
      }
    },
    {
      "cell_type": "code",
      "execution_count": null,
      "metadata": {
        "id": "ZfCNL3mBr4Nd"
      },
      "outputs": [],
      "source": [
        "import torch\n",
        "import torch.nn as nn\n",
        "import torch.optim as optim\n",
        "import torch.nn.functional as F\n",
        "import torchvision.transforms as transforms\n",
        "import torchvision.datasets as datasets\n",
        "import numpy as np\n",
        "import matplotlib.pyplot as plt\n",
        "from sklearn.metrics import accuracy_score, precision_score, recall_score, f1_score"
      ]
    },
    {
      "cell_type": "markdown",
      "source": [
        "# **Data Preprocessing dan Augmentasi**"
      ],
      "metadata": {
        "id": "9_pL2o4AEN49"
      }
    },
    {
      "cell_type": "code",
      "source": [
        "transform = transforms.Compose([\n",
        "    transforms.RandomHorizontalFlip(),\n",
        "    transforms.RandomRotation(15),\n",
        "    transforms.ColorJitter(brightness=0.2, contrast=0.2),\n",
        "    transforms.RandomResizedCrop(32, scale=(0.8, 1.0)),\n",
        "    transforms.ToTensor(),\n",
        "    transforms.Normalize((0.5, 0.5, 0.5), (0.5, 0.5, 0.5))\n",
        "])\n",
        "\n",
        "trainset = datasets.CIFAR10(root='./data', train=True, download=True, transform=transform)\n",
        "testset = datasets.CIFAR10(root='./data', train=False, download=True, transform=transform)\n",
        "trainloader = torch.utils.data.DataLoader(trainset, batch_size=64, shuffle=True)\n",
        "testloader = torch.utils.data.DataLoader(testset, batch_size=64, shuffle=False)"
      ],
      "metadata": {
        "colab": {
          "base_uri": "https://localhost:8080/"
        },
        "id": "5bhwBMGhsnmw",
        "outputId": "67fa05eb-1411-4dc4-aaab-b38c8f8ba6f7"
      },
      "execution_count": null,
      "outputs": [
        {
          "output_type": "stream",
          "name": "stderr",
          "text": [
            "100%|██████████| 170M/170M [00:13<00:00, 13.0MB/s]\n"
          ]
        }
      ]
    },
    {
      "cell_type": "markdown",
      "source": [
        "# **Model CNN (Convolutional Neural Network)**"
      ],
      "metadata": {
        "id": "ybM7KqeQF1aX"
      }
    },
    {
      "cell_type": "code",
      "source": [
        "# CNN Model in PyTorch\n",
        "class CNN(nn.Module):\n",
        "    def __init__(self):\n",
        "        super(CNN, self).__init__()\n",
        "        self.conv1 = nn.Conv2d(3, 32, kernel_size=3, padding=1)\n",
        "        self.conv2 = nn.Conv2d(32, 64, kernel_size=3, padding=1)\n",
        "        self.conv3 = nn.Conv2d(64, 128, kernel_size=3, padding=1)\n",
        "        self.pool = nn.MaxPool2d(2, 2)\n",
        "        self.fc1 = nn.Linear(128 * 4 * 4, 256)\n",
        "        self.dropout = nn.Dropout(0.5)\n",
        "        self.fc2 = nn.Linear(256, 10)\n",
        "\n",
        "    def forward(self, x):\n",
        "        x = self.pool(F.relu(self.conv1(x)))\n",
        "        x = self.pool(F.relu(self.conv2(x)))\n",
        "        x = self.pool(F.relu(self.conv3(x)))\n",
        "        x = x.view(-1, 128 * 4 * 4)\n",
        "        x = F.relu(self.fc1(x))\n",
        "        x = self.dropout(x)\n",
        "        x = self.fc2(x)\n",
        "        return x"
      ],
      "metadata": {
        "id": "l5lCOEcZsxaH"
      },
      "execution_count": null,
      "outputs": []
    },
    {
      "cell_type": "markdown",
      "source": [
        "# **Model MLP (Multilayer Perceptron)**"
      ],
      "metadata": {
        "id": "tz_IYsonGCsA"
      }
    },
    {
      "cell_type": "code",
      "source": [
        "# MLP Model in PyTorch\n",
        "class MLP(nn.Module):\n",
        "    def __init__(self):\n",
        "        super(MLP, self).__init__()\n",
        "        self.fc1 = nn.Linear(32 * 32 * 3, 512)\n",
        "        self.fc2 = nn.Linear(512, 256)\n",
        "        self.fc3 = nn.Linear(256, 10)\n",
        "\n",
        "    def forward(self, x):\n",
        "        x = x.view(-1, 32 * 32 * 3)\n",
        "        x = F.relu(self.fc1(x))\n",
        "        x = F.relu(self.fc2(x))\n",
        "        x = self.fc3(x)\n",
        "        return x"
      ],
      "metadata": {
        "id": "HEop7GNWs40B"
      },
      "execution_count": null,
      "outputs": []
    },
    {
      "cell_type": "code",
      "source": [
        "# Initialize models\n",
        "cnn_model = CNN()\n",
        "mlp_model = MLP()"
      ],
      "metadata": {
        "id": "sWQDtMQOs73w"
      },
      "execution_count": null,
      "outputs": []
    },
    {
      "cell_type": "code",
      "source": [
        "# Define loss function and optimizer\n",
        "criterion = nn.CrossEntropyLoss()\n",
        "optimizer_cnn = optim.Adam(cnn_model.parameters(), lr=0.0005)\n",
        "optimizer_mlp = optim.Adam(mlp_model.parameters(), lr=0.0005)"
      ],
      "metadata": {
        "id": "JpW8lOiks9TP"
      },
      "execution_count": null,
      "outputs": []
    },
    {
      "cell_type": "markdown",
      "source": [
        "# **Fungsi Pelatihan Model**"
      ],
      "metadata": {
        "id": "uYp45j2lGKf0"
      }
    },
    {
      "cell_type": "code",
      "source": [
        "# Function to train model\n",
        "def train_model(model, trainloader, optimizer, num_epochs=30):\n",
        "    model.train()\n",
        "    train_loss = []\n",
        "    train_acc = []\n",
        "\n",
        "    for epoch in range(num_epochs):\n",
        "        running_loss = 0.0\n",
        "        correct = 0\n",
        "        total = 0\n",
        "        for inputs, labels in trainloader:\n",
        "            optimizer.zero_grad()\n",
        "\n",
        "            outputs = model(inputs)\n",
        "            loss = criterion(outputs, labels)\n",
        "            loss.backward()\n",
        "            optimizer.step()\n",
        "\n",
        "            running_loss += loss.item()\n",
        "\n",
        "            _, predicted = torch.max(outputs.data, 1)\n",
        "            total += labels.size(0)\n",
        "            correct += (predicted == labels).sum().item()\n",
        "\n",
        "        epoch_loss = running_loss / len(trainloader)\n",
        "        epoch_acc = 100 * correct / total\n",
        "        train_loss.append(epoch_loss)\n",
        "        train_acc.append(epoch_acc)\n",
        "        print(f'Epoch {epoch+1}/{num_epochs}, Loss: {epoch_loss:.4f}, Accuracy: {epoch_acc:.2f}%')\n",
        "\n",
        "    return train_loss, train_acc"
      ],
      "metadata": {
        "id": "Yld2jomltBy4"
      },
      "execution_count": null,
      "outputs": []
    },
    {
      "cell_type": "markdown",
      "source": [
        "# **Fungsi Evaluasi Model**"
      ],
      "metadata": {
        "id": "qr_5sc-hGVWE"
      }
    },
    {
      "cell_type": "code",
      "source": [
        "# Function to evaluate model\n",
        "def evaluate_model(model, testloader):\n",
        "    model.eval()\n",
        "    y_true = []\n",
        "    y_pred = []\n",
        "\n",
        "    with torch.no_grad():\n",
        "        for inputs, labels in testloader:\n",
        "            outputs = model(inputs)\n",
        "            _, predicted = torch.max(outputs.data, 1)\n",
        "\n",
        "            y_true.extend(labels.numpy())\n",
        "            y_pred.extend(predicted.numpy())\n",
        "\n",
        "    return y_true, y_pred"
      ],
      "metadata": {
        "id": "GeieSvZetFLv"
      },
      "execution_count": null,
      "outputs": []
    },
    {
      "cell_type": "code",
      "source": [
        "# Train CNN and MLP models\n",
        "cnn_loss, cnn_acc = train_model(cnn_model, trainloader, optimizer_cnn, num_epochs=30)\n",
        "mlp_loss, mlp_acc = train_model(mlp_model, trainloader, optimizer_mlp, num_epochs=30)"
      ],
      "metadata": {
        "colab": {
          "base_uri": "https://localhost:8080/"
        },
        "id": "buvXsq35tVv4",
        "outputId": "6a0e01d9-5394-4f33-c24e-6f6dcc71fcf2"
      },
      "execution_count": null,
      "outputs": [
        {
          "output_type": "stream",
          "name": "stdout",
          "text": [
            "Epoch 1/30, Loss: 1.5414, Accuracy: 44.10%\n",
            "Epoch 2/30, Loss: 1.3591, Accuracy: 51.51%\n",
            "Epoch 3/30, Loss: 1.2311, Accuracy: 56.30%\n",
            "Epoch 4/30, Loss: 1.1433, Accuracy: 59.33%\n",
            "Epoch 5/30, Loss: 1.0730, Accuracy: 62.25%\n",
            "Epoch 6/30, Loss: 1.0265, Accuracy: 64.21%\n",
            "Epoch 7/30, Loss: 0.9693, Accuracy: 66.04%\n",
            "Epoch 8/30, Loss: 0.9372, Accuracy: 67.45%\n",
            "Epoch 9/30, Loss: 0.9109, Accuracy: 68.30%\n",
            "Epoch 10/30, Loss: 0.8879, Accuracy: 69.10%\n",
            "Epoch 11/30, Loss: 0.8551, Accuracy: 70.18%\n",
            "Epoch 12/30, Loss: 0.8330, Accuracy: 71.21%\n",
            "Epoch 13/30, Loss: 0.8270, Accuracy: 71.10%\n",
            "Epoch 14/30, Loss: 0.8044, Accuracy: 72.15%\n",
            "Epoch 15/30, Loss: 0.7895, Accuracy: 72.69%\n",
            "Epoch 16/30, Loss: 0.7705, Accuracy: 73.21%\n",
            "Epoch 17/30, Loss: 0.7639, Accuracy: 73.54%\n",
            "Epoch 18/30, Loss: 0.7425, Accuracy: 74.23%\n",
            "Epoch 19/30, Loss: 0.7329, Accuracy: 74.42%\n",
            "Epoch 20/30, Loss: 0.7302, Accuracy: 74.78%\n",
            "Epoch 21/30, Loss: 0.7142, Accuracy: 74.97%\n",
            "Epoch 22/30, Loss: 0.7046, Accuracy: 75.68%\n",
            "Epoch 23/30, Loss: 0.6995, Accuracy: 75.93%\n",
            "Epoch 24/30, Loss: 0.6895, Accuracy: 75.96%\n",
            "Epoch 25/30, Loss: 0.6805, Accuracy: 76.34%\n",
            "Epoch 26/30, Loss: 0.6697, Accuracy: 76.85%\n",
            "Epoch 27/30, Loss: 0.6694, Accuracy: 76.77%\n",
            "Epoch 28/30, Loss: 0.6591, Accuracy: 77.15%\n",
            "Epoch 29/30, Loss: 0.6527, Accuracy: 77.29%\n",
            "Epoch 30/30, Loss: 0.6460, Accuracy: 77.62%\n",
            "Epoch 1/30, Loss: 1.7171, Accuracy: 38.99%\n",
            "Epoch 2/30, Loss: 1.5513, Accuracy: 45.12%\n",
            "Epoch 3/30, Loss: 1.4823, Accuracy: 47.77%\n",
            "Epoch 4/30, Loss: 1.4361, Accuracy: 49.02%\n",
            "Epoch 5/30, Loss: 1.3989, Accuracy: 50.28%\n",
            "Epoch 6/30, Loss: 1.3639, Accuracy: 51.43%\n",
            "Epoch 7/30, Loss: 1.3413, Accuracy: 52.34%\n",
            "Epoch 8/30, Loss: 1.3152, Accuracy: 53.38%\n",
            "Epoch 9/30, Loss: 1.2928, Accuracy: 54.14%\n",
            "Epoch 10/30, Loss: 1.2848, Accuracy: 54.59%\n",
            "Epoch 11/30, Loss: 1.2678, Accuracy: 55.11%\n",
            "Epoch 12/30, Loss: 1.2514, Accuracy: 55.89%\n",
            "Epoch 13/30, Loss: 1.2377, Accuracy: 56.13%\n",
            "Epoch 14/30, Loss: 1.2297, Accuracy: 56.37%\n",
            "Epoch 15/30, Loss: 1.2107, Accuracy: 57.21%\n",
            "Epoch 16/30, Loss: 1.2010, Accuracy: 57.46%\n",
            "Epoch 17/30, Loss: 1.1930, Accuracy: 57.63%\n",
            "Epoch 18/30, Loss: 1.1800, Accuracy: 58.07%\n",
            "Epoch 19/30, Loss: 1.1749, Accuracy: 58.53%\n",
            "Epoch 20/30, Loss: 1.1616, Accuracy: 58.59%\n",
            "Epoch 21/30, Loss: 1.1528, Accuracy: 59.16%\n",
            "Epoch 22/30, Loss: 1.1405, Accuracy: 59.63%\n",
            "Epoch 23/30, Loss: 1.1381, Accuracy: 59.54%\n",
            "Epoch 24/30, Loss: 1.1344, Accuracy: 59.51%\n",
            "Epoch 25/30, Loss: 1.1161, Accuracy: 60.38%\n",
            "Epoch 26/30, Loss: 1.1110, Accuracy: 60.62%\n",
            "Epoch 27/30, Loss: 1.1017, Accuracy: 60.92%\n",
            "Epoch 28/30, Loss: 1.0921, Accuracy: 61.49%\n",
            "Epoch 29/30, Loss: 1.0908, Accuracy: 61.14%\n",
            "Epoch 30/30, Loss: 1.0853, Accuracy: 61.56%\n"
          ]
        }
      ]
    },
    {
      "cell_type": "code",
      "source": [
        "# Evaluate CNN and MLP models\n",
        "y_true_cnn, y_pred_cnn = evaluate_model(cnn_model, testloader)\n",
        "y_true_mlp, y_pred_mlp = evaluate_model(mlp_model, testloader)"
      ],
      "metadata": {
        "id": "C3-rFIlX5iYF"
      },
      "execution_count": null,
      "outputs": []
    },
    {
      "cell_type": "markdown",
      "source": [
        "# **CNN Model Evaluation**"
      ],
      "metadata": {
        "id": "3q6kbIWgGi0f"
      }
    },
    {
      "cell_type": "code",
      "source": [
        "# Print CNN evaluation metrics\n",
        "print(\"CNN Model Evaluation:\")\n",
        "print(f'Accuracy: {accuracy_score(y_true_cnn, y_pred_cnn)}')\n",
        "print(f'Precision: {precision_score(y_true_cnn, y_pred_cnn, average=\"macro\")}')\n",
        "print(f'Recall: {recall_score(y_true_cnn, y_pred_cnn, average=\"macro\")}')\n",
        "print(f'F1 Score: {f1_score(y_true_cnn, y_pred_cnn, average=\"macro\")}')"
      ],
      "metadata": {
        "colab": {
          "base_uri": "https://localhost:8080/"
        },
        "id": "8OPMB9Ob5u28",
        "outputId": "62ab98fe-5af9-4308-8013-375fd807bd95"
      },
      "execution_count": null,
      "outputs": [
        {
          "output_type": "stream",
          "name": "stdout",
          "text": [
            "CNN Model Evaluation:\n",
            "Accuracy: 0.7606\n",
            "Precision: 0.7635451025751413\n",
            "Recall: 0.7605999999999999\n",
            "F1 Score: 0.7600550151519827\n"
          ]
        }
      ]
    },
    {
      "cell_type": "markdown",
      "source": [
        "# **MLP Model Evaluation**"
      ],
      "metadata": {
        "id": "nlxf1zvvGpOA"
      }
    },
    {
      "cell_type": "code",
      "source": [
        "# Print MLP evaluation metrics\n",
        "print(\"MLP Model Evaluation:\")\n",
        "print(f'Accuracy: {accuracy_score(y_true_mlp, y_pred_mlp)}')\n",
        "print(f'Precision: {precision_score(y_true_mlp, y_pred_mlp, average=\"macro\")}')\n",
        "print(f'Recall: {recall_score(y_true_mlp, y_pred_mlp, average=\"macro\")}')\n",
        "print(f'F1 Score: {f1_score(y_true_mlp, y_pred_mlp, average=\"macro\")}')"
      ],
      "metadata": {
        "colab": {
          "base_uri": "https://localhost:8080/"
        },
        "id": "w_bO9GB751EF",
        "outputId": "ebdef944-b1ff-4576-f144-f36cd5bc4aaa"
      },
      "execution_count": null,
      "outputs": [
        {
          "output_type": "stream",
          "name": "stdout",
          "text": [
            "MLP Model Evaluation:\n",
            "Accuracy: 0.5623\n",
            "Precision: 0.5626817156717656\n",
            "Recall: 0.5623\n",
            "F1 Score: 0.5613682483619946\n"
          ]
        }
      ]
    },
    {
      "cell_type": "code",
      "source": [
        "# Plotting the comparison of Accuracy and Loss between CNN and MLP\n",
        "plt.figure(figsize=(12, 5))"
      ],
      "metadata": {
        "colab": {
          "base_uri": "https://localhost:8080/",
          "height": 52
        },
        "id": "M0j5Pfs054rz",
        "outputId": "a904b595-5d45-478d-c3a7-8054e7cb63b9"
      },
      "execution_count": null,
      "outputs": [
        {
          "output_type": "execute_result",
          "data": {
            "text/plain": [
              "<Figure size 1200x500 with 0 Axes>"
            ]
          },
          "metadata": {},
          "execution_count": 15
        },
        {
          "output_type": "display_data",
          "data": {
            "text/plain": [
              "<Figure size 1200x500 with 0 Axes>"
            ]
          },
          "metadata": {}
        }
      ]
    },
    {
      "cell_type": "markdown",
      "source": [
        "# **Visualisasi Perbandingan Akurasi dan Loss CNN dengan MLP**"
      ],
      "metadata": {
        "id": "zwZWM59zG3Jj"
      }
    },
    {
      "cell_type": "code",
      "source": [
        "# Accuracy plot\n",
        "plt.subplot(1, 2, 1)\n",
        "plt.plot(cnn_acc, label='CNN Accuracy')\n",
        "plt.plot(mlp_acc, label='MLP Accuracy')\n",
        "plt.title('Accuracy Comparison')\n",
        "plt.xlabel('Epochs')\n",
        "plt.ylabel('Accuracy (%)')\n",
        "plt.legend()\n",
        "\n",
        "# Loss plot\n",
        "plt.subplot(1, 2, 2)\n",
        "plt.plot(cnn_loss, label='CNN Loss')\n",
        "plt.plot(mlp_loss, label='MLP Loss')\n",
        "plt.title('Loss Comparison')\n",
        "plt.xlabel('Epochs')\n",
        "plt.ylabel('Loss')\n",
        "plt.legend()\n",
        "\n",
        "plt.tight_layout()\n",
        "plt.show()"
      ],
      "metadata": {
        "colab": {
          "base_uri": "https://localhost:8080/",
          "height": 487
        },
        "id": "nil6Qo_i5_nE",
        "outputId": "cf7460fe-073a-48bf-8a46-7d6014c12e54"
      },
      "execution_count": null,
      "outputs": [
        {
          "output_type": "display_data",
          "data": {
            "text/plain": [
              "<Figure size 640x480 with 2 Axes>"
            ],
            "image/png": "[encoded data removed]"
          },
          "metadata": {}
        }
      ]
    },
    {
      "cell_type": "markdown",
      "source": [
        "### **Hasil Evaluasi Model:**\n",
        "Dua model yang digunakan adalah CNN dan MLP, dengan hasil evaluasi sebagai berikut:\n",
        "\n",
        "#### **CNN Model Evaluation:**\n",
        "\n",
        "| **Metrik**     | **Nilai**         |\n",
        "|----------------|-------------------|\n",
        "| **Accuracy**   | 0.7606            |\n",
        "| **Precision**  | 0.7635            |\n",
        "| **Recall**     | 0.7606            |\n",
        "| **F1 Score**   | 0.7601            |\n",
        "\n",
        "**Analisis CNN**:\n",
        "- **Accuracy (0.7606)**: CNN mampu mengklasifikasikan sekitar 76% gambar dengan benar. Akurasi yang cukup tinggi ini menunjukkan bahwa model dapat belajar fitur yang penting dari data gambar.\n",
        "- **Precision (0.7635)**: Precision model CNN menunjukkan bahwa 76.35% dari semua prediksi positif yang dilakukan oleh model benar-benar merupakan prediksi yang tepat.\n",
        "- **Recall (0.7606)**: Model CNN berhasil mendeteksi sekitar 76.06% dari gambar yang benar-benar positif dalam dataset. Nilai recall ini menunjukkan bahwa model tidak terlalu banyak melewatkan gambar positif.\n",
        "- **F1 Score (0.7601)**: F1 score yang sedikit lebih rendah daripada precision dan recall menunjukkan keseimbangan yang baik antara keduanya, meskipun masih ada ruang untuk peningkatan lebih lanjut.\n",
        "\n",
        "#### **MLP Model Evaluation:**\n",
        "\n",
        "| **Metrik**     | **Nilai**         |\n",
        "|----------------|-------------------|\n",
        "| **Accuracy**   | 0.5623            |\n",
        "| **Precision**  | 0.5627            |\n",
        "| **Recall**     | 0.5623            |\n",
        "| **F1 Score**   | 0.5614            |\n",
        "\n",
        "**Analisis MLP**:\n",
        "- **Accuracy (0.5623)**: MLP hanya mampu mengklasifikasikan sekitar 56.23% gambar dengan benar. Ini menunjukkan bahwa MLP kurang efektif dalam menangani tugas klasifikasi gambar, yang dapat disebabkan oleh kekurangan kemampuan untuk menangkap hubungan spasial pada data gambar.\n",
        "- **Precision (0.5627)**: Precision model MLP menunjukkan bahwa sekitar 56.27% dari semua prediksi positif yang dilakukan oleh model benar-benar merupakan prediksi yang tepat.\n",
        "- **Recall (0.5623)**: Model MLP berhasil mendeteksi sekitar 56.23% dari gambar yang benar-benar positif, yang menunjukkan bahwa model cenderung melewatkan beberapa gambar positif.\n",
        "- **F1 Score (0.5614)**: F1 score model MLP menunjukkan keseimbangan antara precision dan recall yang sangat rendah, yang mengindikasikan performa model yang lebih buruk dibandingkan CNN.\n",
        "\n",
        "---\n",
        "\n",
        "### Kesimpulan Perbandingan:\n",
        "\n",
        "- **Model CNN**: Secara keseluruhan, CNN menunjukkan performa yang lebih baik dalam hal akurasi, precision, recall, dan F1 score. Hal ini karena CNN memiliki kemampuan untuk menangkap fitur spasial dari data gambar, yang menjadikannya lebih unggul dalam tugas klasifikasi gambar seperti CIFAR-10.\n",
        "  \n",
        "- **Model MLP**: MLP, meskipun lebih sederhana dan efektif untuk beberapa tugas, tidak dapat memanfaatkan struktur spasial dalam gambar dengan baik, sehingga kinerjanya lebih rendah dibandingkan dengan CNN.\n",
        "---\n",
        "\n",
        "### **Penjelasan Metode Evaluasi dan Metrik:**\n",
        "\n",
        "#### **Accuracy:**\n",
        "Akurasi mengukur sejauh mana model dapat mengklasifikasikan gambar dengan benar. Ini adalah metrik yang paling sederhana dan umum digunakan dalam klasifikasi.\n",
        "\n",
        "$\\text{Rumus:}$\n",
        "\n",
        "$$\\text{Accuracy} = \\frac{\\text{Jumlah Prediksi Benar}}{\\text{Jumlah Total Data}}$$\\\\\n",
        "\n",
        "- **Interpretasi**: Akurasi dari CNN (76.06%) menunjukkan bahwa model CNN dapat mengklasifikasikan sekitar 76% data dengan benar, sementara akurasi MLP (56.23%) menunjukkan bahwa model ini hanya mengklasifikasikan 56.23% data dengan benar. Akurasi CNN yang lebih tinggi mengindikasikan model CNN lebih efektif dalam mengenali pola dan fitur gambar daripada MLP.\n",
        "\n",
        "\n",
        "\n",
        "#### **Precision:**\n",
        "Precision mengukur berapa banyak prediksi positif yang benar dari semua prediksi yang dihasilkan oleh model.\n",
        "\n",
        "**Rumus:**\n",
        "\n",
        "$$\\text{Precision} = \\frac{\\text{True Positive}}{\\text{True Positive} + \\text{False Positive}}$$\\\\\n",
        "\n",
        "- **Interpretasi**: Precision dari CNN (76.35%) menunjukkan bahwa dari semua gambar yang diprediksi sebagai kelas tertentu, 76.35% benar-benar termasuk dalam kelas tersebut. Sebaliknya, precision dari MLP (56.27%) lebih rendah, menunjukkan bahwa MLP cenderung menghasilkan lebih banyak kesalahan (false positive) dalam klasifikasinya.\n",
        "\n",
        "\n",
        "\n",
        "#### **Recall:**\n",
        "Recall mengukur kemampuan model dalam mendeteksi semua contoh positif yang benar dari data sebenarnya.\n",
        "\n",
        "**Rumus:**\n",
        "\n",
        "$$\\text{Recall} = \\frac{\\text{True Positive}}{\\text{True Positive} + \\text{False Negative}}$$\\\\\n",
        "\n",
        "- **Interpretasi**: Recall dari CNN (76.06%) menunjukkan bahwa CNN mampu mendeteksi sekitar 76% dari semua gambar yang benar-benar termasuk dalam kelas tertentu. Recall MLP (56.23%) menunjukkan bahwa model MLP kurang baik dalam mendeteksi contoh positif, dibandingkan dengan CNN.\n",
        "\n",
        "\n",
        "\n",
        "#### **F1 Score:**\n",
        "F1 Score adalah rata-rata harmonis antara precision dan recall, dan memberikan gambaran yang lebih seimbang tentang kinerja model. F1 Score sangat berguna ketika kita memiliki distribusi kelas yang tidak seimbang.\n",
        "\n",
        "**Rumus:**\n",
        "\n",
        "$$\\text{F1 Score} = 2 \\times \\frac{\\text{Precision} \\times \\text{Recall}}{\\text{Precision} + \\text{Recall}}$$\\\\\n",
        "\n",
        "- **Interpretasi**: F1 Score dari CNN (76.01%) menunjukkan bahwa CNN memiliki keseimbangan yang baik antara precision dan recall. F1 Score MLP (56.14%) lebih rendah, yang berarti MLP memiliki keseimbangan yang lebih buruk antara precision dan recall. F1 score yang lebih tinggi pada CNN menandakan bahwa model ini lebih andal dalam membuat prediksi yang akurat dan mendeteksi semua contoh positif.\n",
        "\n",
        "---\n",
        "\n",
        "### **Analisis Model:**\n",
        "\n",
        "#### **CNN (Convolutional Neural Network):**\n",
        "- CNN adalah jenis model yang sangat efektif untuk pemrosesan gambar karena memiliki lapisan konvolusi yang dapat mendeteksi pola spatial dalam data gambar.\n",
        "- **Hasil Evaluasi**: Akurasi, precision, recall, dan F1 score yang lebih tinggi pada CNN dibandingkan dengan MLP menunjukkan bahwa model CNN lebih baik dalam memahami dan mengenali fitur gambar dibandingkan MLP, yang lebih sederhana.\n",
        "- **Kelebihan CNN**: CNN memiliki kemampuan untuk menangkap hubungan spasial dalam data gambar melalui filter konvolusi dan pooling, yang sangat berguna dalam tugas-tugas pengolahan citra.\n",
        "- **Keunggulan Teknikal**: CNN lebih cocok untuk tugas pengklasifikasian gambar atau data yang memiliki struktur grid (seperti citra), karena setiap lapisan dapat mengidentifikasi fitur dari gambar secara otomatis, memanfaatkan hierarki fitur (misalnya, tepi, tekstur, bentuk, dan objek).\n",
        "\n",
        "#### **MLP (Multilayer Perceptron):**\n",
        "- MLP adalah jaringan saraf tiruan yang terdiri dari lapisan-lapisan neuron yang sepenuhnya terhubung dan digunakan untuk tugas-tugas klasifikasi dan regresi. Namun, MLP tidak memiliki kemampuan khusus untuk menangkap hubungan spasial dalam gambar seperti yang dimiliki CNN.\n",
        "- **Hasil Evaluasi**: MLP menunjukkan hasil yang lebih rendah dalam hal akurasi dan metrik lainnya dibandingkan CNN. Hal ini bisa dijelaskan karena MLP tidak memiliki struktur yang memungkinkan untuk mendeteksi fitur spasial dalam gambar. Dalam konteks CIFAR-10 yang terdiri dari gambar, CNN lebih unggul dalam mengenali pola.\n",
        "- **Kelebihan MLP**: MLP lebih sederhana dan bisa digunakan dalam berbagai aplikasi selain citra, seperti teks atau data tabular. Meskipun demikian, MLP mungkin tidak seefektif CNN untuk pengolahan citra.\n",
        "\n"
      ],
      "metadata": {
        "id": "T1pPJfga8_jU"
      }
    }
  ]
}