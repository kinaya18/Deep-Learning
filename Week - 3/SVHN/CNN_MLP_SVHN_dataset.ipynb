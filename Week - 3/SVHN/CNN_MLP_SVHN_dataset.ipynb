{
  "nbformat": 4,
  "nbformat_minor": 0,
  "metadata": {
    "colab": {
      "provenance": [],
      "machine_shape": "hm",
      "gpuType": "L4"
    },
    "kernelspec": {
      "name": "python3",
      "display_name": "Python 3"
    },
    "language_info": {
      "name": "python"
    },
    "accelerator": "GPU"
  },
  "cells": [
    {
      "cell_type": "markdown",
      "source": [
        "# **Persiapan Data dan Libraries**"
      ],
      "metadata": {
        "id": "FtQDb3V822jB"
      }
    },
    {
      "cell_type": "code",
      "execution_count": 57,
      "metadata": {
        "id": "N2d9DWuhOf7N"
      },
      "outputs": [],
      "source": [
        "import torch\n",
        "import torch.nn as nn\n",
        "import torch.optim as optim\n",
        "import torchvision\n",
        "import torchvision.transforms as transforms\n",
        "from sklearn.metrics import accuracy_score, precision_score, recall_score, f1_score, roc_auc_score, roc_curve\n",
        "import matplotlib.pyplot as plt\n",
        "import numpy as np"
      ]
    },
    {
      "cell_type": "code",
      "source": [
        "# Cek apakah GPU tersedia untuk training\n",
        "device = torch.device(\"cuda\" if torch.cuda.is_available() else \"cpu\")"
      ],
      "metadata": {
        "id": "HH6XH6B2Pc06"
      },
      "execution_count": 29,
      "outputs": []
    },
    {
      "cell_type": "code",
      "source": [
        "# Load SVHN dataset menggunakan PyTorch\n",
        "transform = transforms.Compose([\n",
        "    transforms.ToTensor(),\n",
        "    transforms.Normalize(mean=[0.4377, 0.4438, 0.4728], std=[0.1980, 0.2010, 0.1970])  #improved: Normalisasi dengan rata-rata dan deviasi standar untuk RGB\n",
        "])"
      ],
      "metadata": {
        "id": "OR0cfMDzPwrK"
      },
      "execution_count": 58,
      "outputs": []
    },
    {
      "cell_type": "code",
      "source": [
        "# Load dataset SVHN from torchvision\n",
        "train_set = torchvision.datasets.SVHN(root='./data', split='train', download=True, transform=transform)\n",
        "test_set = torchvision.datasets.SVHN(root='./data', split='test', download=True, transform=transform)"
      ],
      "metadata": {
        "id": "73ZjUYvyPy_0"
      },
      "execution_count": 59,
      "outputs": []
    },
    {
      "cell_type": "code",
      "source": [
        "train_loader = torch.utils.data.DataLoader(train_set, batch_size=32, shuffle=True)\n",
        "test_loader = torch.utils.data.DataLoader(test_set, batch_size=32, shuffle=False)"
      ],
      "metadata": {
        "id": "O6rNK27aQHft"
      },
      "execution_count": 32,
      "outputs": []
    },
    {
      "cell_type": "markdown",
      "source": [
        "# **Model CNN**"
      ],
      "metadata": {
        "id": "twStmMZR2_PP"
      }
    },
    {
      "cell_type": "code",
      "source": [
        "# Model CNN\n",
        "class CNNModel(nn.Module):\n",
        "    def __init__(self):\n",
        "        super(CNNModel, self).__init__()\n",
        "        self.conv1 = nn.Conv2d(3, 32, kernel_size=3, padding=1)\n",
        "        self.conv2 = nn.Conv2d(32, 64, kernel_size=3, padding=1)\n",
        "        self.conv3 = nn.Conv2d(64, 128, kernel_size=3, padding=1)\n",
        "        self.pool = nn.MaxPool2d(2, 2)\n",
        "        self.fc1 = nn.Linear(128 * 4 * 4, 512)\n",
        "        self.fc2 = nn.Linear(512, 128)\n",
        "        self.fc3 = nn.Linear(128, 10)  # 10 kelas untuk SVHN\n",
        "        self.relu = nn.ReLU()\n",
        "        self.dropout = nn.Dropout(p=0.5)\n",
        "        self.softmax = nn.Softmax(dim=1)\n",
        "\n",
        "    def forward(self, x):\n",
        "        x = self.pool(self.relu(self.conv1(x)))\n",
        "        x = self.pool(self.relu(self.conv2(x)))\n",
        "        x = self.pool(self.relu(self.conv3(x)))\n",
        "        x = x.view(-1, 128 * 4 * 4)\n",
        "        x = self.relu(self.fc1(x))\n",
        "        x = self.dropout(x)\n",
        "        x = self.fc2(x)\n",
        "        x = self.dropout(x)\n",
        "        x = self.fc3(x)\n",
        "        return self.softmax(x)"
      ],
      "metadata": {
        "id": "QDA0HLumQL-1"
      },
      "execution_count": 60,
      "outputs": []
    },
    {
      "cell_type": "markdown",
      "source": [
        "# **Model MLP (Vanilla)**"
      ],
      "metadata": {
        "id": "weoE8mbw3Cox"
      }
    },
    {
      "cell_type": "code",
      "source": [
        "# Improved MLP Model\n",
        "class MLPModel(nn.Module):\n",
        "    def __init__(self):\n",
        "        super(MLPModel, self).__init__()\n",
        "        self.fc1 = nn.Linear(3 * 32 * 32, 1024)\n",
        "        self.bn1 = nn.BatchNorm1d(1024)  # Batch Normalization\n",
        "        self.fc2 = nn.Linear(1024, 512)\n",
        "        self.bn2 = nn.BatchNorm1d(512)   # Batch Normalization\n",
        "        self.fc3 = nn.Linear(512, 10)    # 10 classes for SVHN\n",
        "        self.relu = nn.ReLU()\n",
        "        self.dropout = nn.Dropout(p=0.5)  # Dropout for regularization\n",
        "        self.softmax = nn.Softmax(dim=1)\n",
        "\n",
        "    def forward(self, x):\n",
        "        x = x.view(-1, 3 * 32 * 32)\n",
        "        x = self.relu(self.bn1(self.fc1(x)))\n",
        "        x = self.dropout(x)\n",
        "        x = self.relu(self.bn2(self.fc2(x)))\n",
        "        x = self.dropout(x)\n",
        "        x = self.fc3(x)\n",
        "        return self.softmax(x)"
      ],
      "metadata": {
        "id": "DulnH01MQPfb"
      },
      "execution_count": 83,
      "outputs": []
    },
    {
      "cell_type": "code",
      "source": [
        "mlp_optimizer = optim.Adam(mlp_model.parameters(), lr=0.001, weight_decay=1e-4)\n"
      ],
      "metadata": {
        "id": "Whb1axDUoAOF"
      },
      "execution_count": 82,
      "outputs": []
    },
    {
      "cell_type": "markdown",
      "source": [
        "# **Fungsi Pelatihan Model**"
      ],
      "metadata": {
        "id": "l_dmCmqu3IV3"
      }
    },
    {
      "cell_type": "code",
      "source": [
        "# Fungsi pelatihan model\n",
        "def train_model(model, train_loader, optimizer, criterion, device, epochs=10):\n",
        "    model.train()\n",
        "    epoch_losses = []\n",
        "    epoch_accuracies = []\n",
        "    for epoch in range(epochs):\n",
        "        running_loss = 0.0\n",
        "        correct_preds = 0\n",
        "        total_preds = 0\n",
        "        for inputs, labels in train_loader:\n",
        "            inputs, labels = inputs.to(device), labels.to(device)\n",
        "\n",
        "            optimizer.zero_grad()\n",
        "\n",
        "            outputs = model(inputs)\n",
        "            loss = criterion(outputs, labels)\n",
        "            loss.backward()\n",
        "            optimizer.step()\n",
        "\n",
        "            running_loss += loss.item()\n",
        "\n",
        "            # Menghitung akurasi\n",
        "            _, predicted = torch.max(outputs, 1)\n",
        "            correct_preds += (predicted == labels).sum().item()\n",
        "            total_preds += labels.size(0)\n",
        "\n",
        "        accuracy = correct_preds / total_preds\n",
        "        epoch_losses.append(running_loss / len(train_loader))\n",
        "        epoch_accuracies.append(accuracy)\n",
        "        print(f'Epoch [{epoch+1}/{epochs}], Loss: {running_loss/len(train_loader)}, Accuracy: {accuracy}')\n",
        "\n",
        "    return epoch_losses, epoch_accuracies"
      ],
      "metadata": {
        "id": "W4lyenG4QR_y"
      },
      "execution_count": 62,
      "outputs": []
    },
    {
      "cell_type": "markdown",
      "source": [
        "# **Fungsi Evaluasi Model**"
      ],
      "metadata": {
        "id": "B92XMH3b3LQI"
      }
    },
    {
      "cell_type": "code",
      "source": [
        "# Fungsi evaluasi model\n",
        "def evaluate_model(model, test_loader, device):\n",
        "    model.eval()\n",
        "    all_labels = []\n",
        "    all_preds = []\n",
        "    all_probs = []\n",
        "    with torch.no_grad():\n",
        "        for inputs, labels in test_loader:\n",
        "            inputs, labels = inputs.to(device), labels.to(device)\n",
        "\n",
        "            outputs = model(inputs)\n",
        "            _, predicted = torch.max(outputs, 1)  # Kelas yang diprediksi\n",
        "            all_labels.extend(labels.cpu().numpy())\n",
        "            all_preds.extend(predicted.cpu().numpy())\n",
        "            all_probs.extend(outputs.cpu().numpy())\n",
        "\n",
        "    return all_labels, all_preds, np.array(all_probs)"
      ],
      "metadata": {
        "id": "S6CvK1Q_QUSz"
      },
      "execution_count": 63,
      "outputs": []
    },
    {
      "cell_type": "markdown",
      "source": [
        "# **Evaluasi Matriks dan Persamaan Matematika**"
      ],
      "metadata": {
        "id": "yFp973It3SUR"
      }
    },
    {
      "cell_type": "code",
      "source": [
        "# Menghitung metrik\n",
        "def calculate_metrics(y_true, y_pred, y_probs):\n",
        "    accuracy = accuracy_score(y_true, y_pred)\n",
        "    precision = precision_score(y_true, y_pred, average='weighted', zero_division=0)\n",
        "    recall = recall_score(y_true, y_pred, average='weighted', zero_division=0)\n",
        "    f1 = f1_score(y_true, y_pred, average='weighted', zero_division=0)\n",
        "\n",
        "    # Menghitung AUC dengan probabilitas (bukan kelas yang diprediksi)\n",
        "    auc = roc_auc_score(y_true, y_probs, multi_class='ovr', average='weighted')\n",
        "\n",
        "    # Menghitung ROC curve\n",
        "    fpr, tpr, thresholds = roc_curve(y_true, y_probs[:, 1], pos_label=1)\n",
        "    return accuracy, precision, recall, f1, auc, fpr, tpr, thresholds"
      ],
      "metadata": {
        "id": "is-Q_rtCQZRr"
      },
      "execution_count": 64,
      "outputs": []
    },
    {
      "cell_type": "code",
      "source": [
        "# Training CNN Model\n",
        "cnn_model = CNNModel().to(device)\n",
        "cnn_optimizer = optim.Adam(cnn_model.parameters(), lr=0.001, weight_decay=1e-4)\n",
        "cnn_criterion = nn.CrossEntropyLoss()\n",
        "\n",
        "cnn_losses, cnn_accuracies = train_model(cnn_model, train_loader, cnn_optimizer, cnn_criterion, device, epochs=10)\n",
        "y_true, y_pred, y_probs = evaluate_model(cnn_model, test_loader, device)"
      ],
      "metadata": {
        "colab": {
          "base_uri": "https://localhost:8080/"
        },
        "id": "VrPyIJY2VAMU",
        "outputId": "5e661d8d-0310-40ed-ba03-66f4825edd75"
      },
      "execution_count": 65,
      "outputs": [
        {
          "output_type": "stream",
          "name": "stdout",
          "text": [
            "Epoch [1/10], Loss: 1.9362710344218792, Accuracy: 0.5228851850335121\n",
            "Epoch [2/10], Loss: 1.6738996164767503, Accuracy: 0.7874742345441391\n",
            "Epoch [3/10], Loss: 1.6413584305209363, Accuracy: 0.8189797562007726\n",
            "Epoch [4/10], Loss: 1.6324832876176292, Accuracy: 0.8278799295630451\n",
            "Epoch [5/10], Loss: 1.6275988643346395, Accuracy: 0.8326712805602196\n",
            "Epoch [6/10], Loss: 1.6254013411863402, Accuracy: 0.8349509261913537\n",
            "Epoch [7/10], Loss: 1.6276357559658035, Accuracy: 0.8332582551838049\n",
            "Epoch [8/10], Loss: 1.6230495194680825, Accuracy: 0.8370804155234312\n",
            "Epoch [9/10], Loss: 1.6254295090400497, Accuracy: 0.8353331422253164\n",
            "Epoch [10/10], Loss: 1.6231469190276866, Accuracy: 0.8371486683866388\n"
          ]
        }
      ]
    },
    {
      "cell_type": "markdown",
      "source": [
        "# **Output CNN Model Metrics**"
      ],
      "metadata": {
        "id": "SadD0i3g3fK4"
      }
    },
    {
      "cell_type": "code",
      "source": [
        "# Menghitung metrik\n",
        "cnn_metrics = calculate_metrics(y_true, y_pred, y_probs)\n",
        "\n",
        "# Output hasil evaluasi\n",
        "print(\"CNN Model Metrics\")\n",
        "print(f\"Accuracy: {cnn_metrics[0]}\")\n",
        "print(f\"Precision: {cnn_metrics[1]}\")\n",
        "print(f\"Recall: {cnn_metrics[2]}\")\n",
        "print(f\"F1 Score: {cnn_metrics[3]}\")\n",
        "print(f\"AUC: {cnn_metrics[4]}\")"
      ],
      "metadata": {
        "colab": {
          "base_uri": "https://localhost:8080/"
        },
        "id": "setBCNCwWKpe",
        "outputId": "3f22e5e5-b1e2-459e-c774-72c57a79c634"
      },
      "execution_count": 66,
      "outputs": [
        {
          "output_type": "stream",
          "name": "stdout",
          "text": [
            "CNN Model Metrics\n",
            "Accuracy: 0.8389290104486785\n",
            "Precision: 0.8455081088299182\n",
            "Recall: 0.8389290104486785\n",
            "F1 Score: 0.8385601597994174\n",
            "AUC: 0.966679265037279\n"
          ]
        }
      ]
    },
    {
      "cell_type": "code",
      "source": [
        "# Training MLP Model\n",
        "mlp_model = MLPModel().to(device)\n",
        "mlp_optimizer = optim.Adam(mlp_model.parameters(), lr=0.001, weight_decay=1e-4)  #improved: Menambahkan regularisasi L2\n",
        "mlp_criterion = nn.CrossEntropyLoss()\n",
        "\n",
        "mlp_losses, mlp_accuracies = train_model(mlp_model, train_loader, mlp_optimizer, mlp_criterion, device, epochs=10)\n",
        "y_true_mlp, y_pred_mlp, y_probs_mlp = evaluate_model(mlp_model, test_loader, device)\n",
        "\n",
        "# Menghitung metrik untuk MLP\n",
        "mlp_metrics = calculate_metrics(y_true_mlp, y_pred_mlp, y_probs_mlp)"
      ],
      "metadata": {
        "colab": {
          "base_uri": "https://localhost:8080/"
        },
        "id": "GkpInKrUh3tp",
        "outputId": "9395274a-ccc6-4881-b843-af57cc6f43ee"
      },
      "execution_count": 88,
      "outputs": [
        {
          "output_type": "stream",
          "name": "stdout",
          "text": [
            "Epoch [1/10], Loss: 2.105244851476761, Accuracy: 0.3515841489550487\n",
            "Epoch [2/10], Loss: 2.04758476175075, Accuracy: 0.41097779051831224\n",
            "Epoch [3/10], Loss: 2.027690766732245, Accuracy: 0.43128984260889747\n",
            "Epoch [4/10], Loss: 2.0083573437674076, Accuracy: 0.45184760500703003\n",
            "Epoch [5/10], Loss: 1.9998587805110815, Accuracy: 0.4594646245409995\n",
            "Epoch [6/10], Loss: 1.997058540816911, Accuracy: 0.4625223528127005\n",
            "Epoch [7/10], Loss: 1.995104899364788, Accuracy: 0.4642423249655323\n",
            "Epoch [8/10], Loss: 1.9924874881469528, Accuracy: 0.46740925781836545\n",
            "Epoch [9/10], Loss: 1.9918100500210925, Accuracy: 0.4678460761428942\n",
            "Epoch [10/10], Loss: 1.9904025026804495, Accuracy: 0.47033048036365127\n"
          ]
        }
      ]
    },
    {
      "cell_type": "markdown",
      "source": [
        "# **Output MLP Model Metrics**"
      ],
      "metadata": {
        "id": "OlmCIaGZ3mno"
      }
    },
    {
      "cell_type": "code",
      "source": [
        "# Output hasil evaluasi untuk MLP\n",
        "print(\"MLP Model Metrics\")\n",
        "print(f\"Accuracy: {mlp_metrics[0]}\")\n",
        "print(f\"Precision: {mlp_metrics[1]}\")\n",
        "print(f\"Recall: {mlp_metrics[2]}\")\n",
        "print(f\"F1 Score: {mlp_metrics[3]}\")\n",
        "print(f\"AUC: {mlp_metrics[4]}\")"
      ],
      "metadata": {
        "colab": {
          "base_uri": "https://localhost:8080/"
        },
        "id": "R7F-b_jzivKF",
        "outputId": "3c0f8fc2-8af7-499f-9476-822bfee7de79"
      },
      "execution_count": 89,
      "outputs": [
        {
          "output_type": "stream",
          "name": "stdout",
          "text": [
            "MLP Model Metrics\n",
            "Accuracy: 0.5175169022741242\n",
            "Precision: 0.5363879265013893\n",
            "Recall: 0.5175169022741242\n",
            "F1 Score: 0.494104061143718\n",
            "AUC: 0.7697125886119625\n"
          ]
        }
      ]
    },
    {
      "cell_type": "markdown",
      "source": [
        "# **Visualisasi Grafik Perbandingan CNN vs MLP**"
      ],
      "metadata": {
        "id": "fc-C8TRE3tRQ"
      }
    },
    {
      "cell_type": "code",
      "source": [
        "# Improved: Plotting Accuracy and Loss Comparison\n",
        "epochs_range = range(1, 11)\n",
        "plt.figure(figsize=(12, 6))"
      ],
      "metadata": {
        "colab": {
          "base_uri": "https://localhost:8080/",
          "height": 52
        },
        "id": "6GhWhhmspYL2",
        "outputId": "16284fb9-b3ef-48b4-f194-80d5bb4f3c6f"
      },
      "execution_count": 90,
      "outputs": [
        {
          "output_type": "execute_result",
          "data": {
            "text/plain": [
              "<Figure size 1200x600 with 0 Axes>"
            ]
          },
          "metadata": {},
          "execution_count": 90
        },
        {
          "output_type": "display_data",
          "data": {
            "text/plain": [
              "<Figure size 1200x600 with 0 Axes>"
            ]
          },
          "metadata": {}
        }
      ]
    },
    {
      "cell_type": "code",
      "source": [
        "# Plotting Accuracy\n",
        "plt.subplot(1, 2, 1)\n",
        "plt.plot(epochs_range, cnn_accuracies, label='CNN Accuracy', color='b')\n",
        "plt.plot(epochs_range, mlp_accuracies, label='MLP Accuracy', color='r')\n",
        "plt.title('Accuracy Comparison')\n",
        "plt.xlabel('Epochs')\n",
        "plt.ylabel('Accuracy (%)')\n",
        "plt.legend()\n",
        "\n",
        "# Plotting Loss\n",
        "plt.subplot(1, 2, 2)\n",
        "plt.plot(epochs_range, cnn_losses, label='CNN Loss', color='b')\n",
        "plt.plot(epochs_range, mlp_losses, label='MLP Loss', color='r')\n",
        "plt.title('Loss Comparison')\n",
        "plt.xlabel('Epochs')\n",
        "plt.ylabel('Loss')\n",
        "plt.legend()\n",
        "\n",
        "plt.tight_layout()\n",
        "plt.show()"
      ],
      "metadata": {
        "colab": {
          "base_uri": "https://localhost:8080/",
          "height": 487
        },
        "id": "zK5Q8EwSpbhP",
        "outputId": "04347295-2d88-4c45-d91e-582c0ff8d32f"
      },
      "execution_count": 91,
      "outputs": [
        {
          "output_type": "display_data",
          "data": {
            "text/plain": [
              "<Figure size 640x480 with 2 Axes>"
            ],
            "image/png": "[encoded data removed]"
          },
          "metadata": {}
        }
      ]
    },
    {
      "cell_type": "markdown",
      "source": [
        "### **Analisis dan Penjelasan Proyek CNN vs MLP**\n",
        "\n",
        "Dalam proyek ini, Ada dua jenis model untuk klasifikasi dataset SVHN (Street View House Numbers): **CNN (Convolutional Neural Network)** dan **MLP (Multilayer Perceptron)**.\n",
        "\n",
        "### **CNN (Convolutional Neural Network)**:\n",
        "CNN adalah jenis jaringan saraf yang digunakan untuk pengolahan data gambar. CNN dapat secara otomatis mengekstraksi fitur spasial dari gambar melalui lapisan konvolusi dan pooling, sebelum melakukan klasifikasi pada lapisan fully connected. CNN sangat efektif untuk tugas pengolahan gambar seperti klasifikasi dan deteksi objek.\n",
        "\n",
        "### **MLP (Multilayer Perceptron)**:\n",
        "MLP adalah jenis jaringan saraf yang terdiri dari lapisan input, satu atau lebih lapisan tersembunyi, dan lapisan output. MLP digunakan untuk tugas klasifikasi dan regresi. MLP tidak menganggap struktur spasial data dan lebih cocok untuk data tabular atau masalah sederhana.\n",
        "\n",
        "### **SVHN (Street View House Numbers) Dataset**:\n",
        "SVHN adalah dataset yang berisi gambar angka rumah dari gambar-gambar yang diambil dari Google Street View. Dataset ini digunakan untuk tugas pengenalan angka, khususnya untuk klasifikasi digit pada gambar yang tidak terstruktur dengan latar belakang yang bervariasi. Setiap gambar di SVHN mengandung angka rumah yang ditulis dalam berbagai kondisi pencahayaan, perspektif, dan gangguan latar belakang. Dataset ini sering digunakan dalam tugas pengolahan gambar dan pengenalan karakter optik (OCR).\n",
        "\n",
        "#### **Hasil Evaluasi Model**\n",
        "- **CNN Model Metrics**\n",
        "  - **Accuracy**: 0.8389\n",
        "  - **Precision**: 0.8455\n",
        "  - **Recall**: 0.8389\n",
        "  - **F1 Score**: 0.8386\n",
        "  - **AUC**: 0.9667\n",
        "\n",
        "- **MLP Model Metrics**\n",
        "  - **Accuracy**: 0.5175\n",
        "  - **Precision**: 0.5364\n",
        "  - **Recall**: 0.5175\n",
        "  - **F1 Score**: 0.4941\n",
        "  - **AUC**: 0.7697\n",
        "\n",
        "### **Analisis Model CNN:**\n",
        "\n",
        "#### 1. **Akurasi (Accuracy)**:\n",
        "- **Definisi**: Akurasi mengukur seberapa banyak prediksi yang benar dibandingkan dengan total prediksi.\n",
        "\n",
        "\n",
        "  $$\\text{Accuracy} = \\frac{\\text{Jumlah Prediksi yang Benar}}{\\text{Jumlah Total Data}}$$\\\\\n",
        "- **Hasil CNN**: Akurasi CNN adalah **83.89%**, yang menunjukkan bahwa model CNN mampu memprediksi dengan benar sekitar 84% dari data uji. Ini adalah hasil yang sangat baik, terutama untuk dataset yang kompleks seperti SVHN.\n",
        "\n",
        "#### 2. **Presisi (Precision)**:\n",
        "- **Definisi**: Presisi mengukur proporsi prediksi positif yang benar, yaitu seberapa tepat model mengklasifikasikan data positif.\n",
        "\n",
        "  $$\\text{Precision} = \\frac{\\text{True Positives}}{\\text{True Positives} + \\text{False Positives}}$$\\\\\n",
        "- **Hasil CNN**: Presisi CNN adalah **84.55%**, yang menunjukkan bahwa dari semua prediksi yang diklasifikasikan sebagai positif, sekitar 85% adalah benar.\n",
        "\n",
        "#### 3. **Recall**:\n",
        "- **Definisi**: Recall mengukur seberapa banyak data positif yang dapat dikenali dengan benar oleh model. Ini juga dikenal sebagai sensitivitas atau true positive rate.\n",
        "\n",
        "  $$\\text{Recall} = \\frac{\\text{True Positives}}{\\text{True Positives} + \\text{False Negatives}}$$\\\\\n",
        "- **Hasil CNN**: Recall CNN adalah **83.89%**, yang berarti model berhasil mengenali sekitar 84% dari semua data positif yang sebenarnya. Ini menunjukkan keseimbangan yang baik antara recall dan presisi.\n",
        "\n",
        "#### 4. **F1 Score**:\n",
        "- **Definisi**: F1 Score adalah rata-rata harmonis antara presisi dan recall, memberikan gambaran seimbang dari keduanya.\n",
        "  $$\\text{ Score} = 2 \\times \\frac{\\text{Precision} \\times \\text{Recall}}{\\text{Precision} + \\text{Recall}}$$\\\\\n",
        "- **Hasil CNN**: F1 Score CNN adalah **83.86%**, yang menunjukkan keseimbangan yang sangat baik antara presisi dan recall.\n",
        "\n",
        "#### 5. **AUC (Area Under Curve)**:\n",
        "- **Definisi**: AUC mengukur area di bawah kurva ROC (Receiver Operating Characteristic). AUC yang lebih tinggi menunjukkan kemampuan model untuk membedakan antara kelas positif dan negatif.\n",
        "  \n",
        "  $$AUC \\text{ (ROC)} = \\text{Area under the ROC curve}$$\\\\\n",
        "  \n",
        "- **Hasil CNN**: AUC CNN adalah **96.67%**, yang sangat tinggi dan menunjukkan bahwa model CNN memiliki kemampuan yang sangat baik untuk membedakan antara kelas-kelas yang ada.\n",
        "\n",
        "### **Analisis Model MLP:**\n",
        "\n",
        "#### 1. **Akurasi (Accuracy)**:\n",
        "\n",
        "$$\\text{Accuracy} = \\frac{\\text{Jumlah Prediksi yang Benar}}{\\text{Jumlah Total Data}}$$\\\\\n",
        "\n",
        "- **Hasil MLP**: Akurasi MLP adalah **51.75%**, yang jauh lebih rendah daripada CNN. MLP kesulitan untuk menangani data gambar karena tidak dapat menangkap hubungan spasial antar piksel seperti CNN.\n",
        "\n",
        "#### 2. **Presisi (Precision)**:\n",
        "\n",
        "$$\\text{Precision} = \\frac{\\text{True Positives}}{\\text{True Positives} + \\text{False Positives}}$$\\\\\n",
        "- **Hasil MLP**: Presisi MLP adalah **53.64%**, yang lebih rendah dari CNN. Ini menunjukkan bahwa dari semua prediksi positif, hanya 54% yang benar, mengindikasikan banyaknya kesalahan klasifikasi pada kelas positif.\n",
        "\n",
        "#### 3. **Recall**:\n",
        "\n",
        "$$\\text{Recall} = \\frac{\\text{True Positives}}{\\text{True Positives} + \\text{False Negatives}}$$\\\\\n",
        "- **Hasil MLP**: Recall MLP adalah **51.75%**, yang berarti MLP hanya mengenali sekitar 52% dari data positif yang sebenarnya. Hal ini menunjukkan bahwa model MLP kesulitan mengenali data positif.\n",
        "\n",
        "#### 4. **F1 Score**:\n",
        "\n",
        "$$\\text{ Score} = 2 \\times \\frac{\\text{Precision} \\times \\text{Recall}}{\\text{Precision} + \\text{Recall}}$$\\\\\n",
        "- **Hasil MLP**: F1 Score MLP adalah **49.41%**, yang menunjukkan bahwa MLP tidak seimbang dalam mencapai presisi dan recall yang baik. Model ini masih memiliki banyak ruang untuk perbaikan.\n",
        "\n",
        "#### 5. **AUC (Area Under Curve)**:\n",
        "\n",
        "$$AUC \\text{ (ROC)} = \\text{Area under the ROC curve}$$\\\\\n",
        "- **Hasil MLP**: AUC MLP adalah **76.97%**, yang jauh lebih rendah dibandingkan dengan CNN. MLP kurang efektif dalam membedakan antara kelas positif dan negatif, meskipun tetap lebih baik daripada model acak.\n",
        "\n",
        "### **Perbandingan antara CNN dan MLP:**\n",
        "### Hasil Evaluasi Model\n",
        "\n",
        "| **Metrik**     | **CNN Model** | **MLP Model** |\n",
        "|----------------|---------------|---------------|\n",
        "| **Accuracy**   | 0.8389        | 0.5175        |\n",
        "| **Precision**  | 0.8455        | 0.5364        |\n",
        "| **Recall**     | 0.8389        | 0.5175        |\n",
        "| **F1 Score**   | 0.8386        | 0.4941        |\n",
        "| **AUC**        | 0.9667        | 0.7697        |\n",
        "\n",
        "---\n",
        "\n",
        "- **Akurasi**: CNN jauh lebih unggul dengan **83.89%** dibandingkan MLP yang hanya mencapai **51.75%**. Hal ini mencerminkan kemampuan CNN yang lebih baik dalam menangkap fitur spasial dalam gambar.\n",
        "- **Presisi dan Recall**: Presisi dan recall CNN lebih baik secara signifikan, masing-masing **84.55%** dan **83.89%**, dibandingkan dengan MLP yang memiliki nilai sekitar **53%** dan **52%**. Ini menunjukkan bahwa CNN lebih baik dalam mengklasifikasikan data positif dan mengidentifikasi kelas yang relevan.\n",
        "- **F1 Score**: F1 Score CNN (**83.86%**) jauh lebih tinggi dibandingkan dengan MLP (**49.41%**), menunjukkan bahwa CNN memiliki keseimbangan yang lebih baik antara presisi dan recall.\n",
        "- **AUC**: AUC CNN (**96.67%**) menunjukkan kemampuan klasifikasi yang sangat baik, sedangkan AUC MLP (**76.97%**) menunjukkan bahwa model MLP memiliki performa yang lebih rendah dalam membedakan kelas-kelas.\n",
        "\n",
        "### **Kesimpulan:**\n",
        "Model CNN jelas lebih unggul dibandingkan dengan MLP untuk tugas klasifikasi gambar pada dataset SVHN. CNN, dengan kemampuannya dalam menangkap fitur spasial melalui lapisan konvolusi, berhasil mencapai kinerja yang lebih tinggi di hampir semua metrik evaluasi. MLP, yang lebih cocok untuk data tabular, tidak dapat bersaing dengan kemampuan CNN dalam pengolahan gambar, meskipun hasilnya bisa diperbaiki dengan peningkatan arsitektur dan hyperparameter."
      ],
      "metadata": {
        "id": "kpXddy6w3zmw"
      }
    }
  ]
}