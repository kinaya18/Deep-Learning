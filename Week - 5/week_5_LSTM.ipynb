{
  "nbformat": 4,
  "nbformat_minor": 0,
  "metadata": {
    "colab": {
      "provenance": [],
      "machine_shape": "hm",
      "gpuType": "A100"
    },
    "kernelspec": {
      "name": "python3",
      "display_name": "Python 3"
    },
    "language_info": {
      "name": "python"
    },
    "accelerator": "GPU"
  },
  "cells": [
    {
      "cell_type": "markdown",
      "source": [
        "# **WEEK 5 - LSTM Models**"
      ],
      "metadata": {
        "id": "HoHxltAalUmw"
      }
    },
    {
      "cell_type": "code",
      "source": [
        "# Import necessary libraries\n",
        "import pandas as pd\n",
        "import numpy as np\n",
        "import matplotlib.pyplot as plt\n",
        "import torch\n",
        "import torch.nn as nn\n",
        "from sklearn.model_selection import train_test_split\n",
        "from sklearn.preprocessing import LabelEncoder\n",
        "from sklearn.metrics import accuracy_score, precision_score, recall_score, f1_score, roc_auc_score, roc_curve\n",
        "from tensorflow.keras.preprocessing.text import Tokenizer\n",
        "from tensorflow.keras.preprocessing.sequence import pad_sequences\n",
        "import tensorflow as tf"
      ],
      "metadata": {
        "id": "i_LmjYrxG4eM"
      },
      "execution_count": 2,
      "outputs": []
    },
    {
      "cell_type": "code",
      "execution_count": null,
      "metadata": {
        "colab": {
          "base_uri": "https://localhost:8080/",
          "height": 1000
        },
        "id": "DGIACwLJE8Q1",
        "outputId": "1b8e10ce-00d7-43a9-9b07-5d0f1b72ac13"
      },
      "outputs": [
        {
          "output_type": "execute_result",
          "data": {
            "text/plain": [
              "       Unnamed: 0  Clothing ID  Age  \\\n",
              "0               0          767   33   \n",
              "1               1         1080   34   \n",
              "2               2         1077   60   \n",
              "3               3         1049   50   \n",
              "4               4          847   47   \n",
              "...           ...          ...  ...   \n",
              "23481       23481         1104   34   \n",
              "23482       23482          862   48   \n",
              "23483       23483         1104   31   \n",
              "23484       23484         1084   28   \n",
              "23485       23485         1104   52   \n",
              "\n",
              "                                                   Title  \\\n",
              "0                                                    NaN   \n",
              "1                                                    NaN   \n",
              "2                                Some major design flaws   \n",
              "3                                       My favorite buy!   \n",
              "4                                       Flattering shirt   \n",
              "...                                                  ...   \n",
              "23481                     Great dress for many occasions   \n",
              "23482                         Wish it was made of cotton   \n",
              "23483                              Cute, but see through   \n",
              "23484  Very cute dress, perfect for summer parties an...   \n",
              "23485                    Please make more like this one!   \n",
              "\n",
              "                                             Review Text  Rating  \\\n",
              "0      Absolutely wonderful - silky and sexy and comf...       4   \n",
              "1      Love this dress!  it's sooo pretty.  i happene...       5   \n",
              "2      I had such high hopes for this dress and reall...       3   \n",
              "3      I love, love, love this jumpsuit. it's fun, fl...       5   \n",
              "4      This shirt is very flattering to all due to th...       5   \n",
              "...                                                  ...     ...   \n",
              "23481  I was very happy to snag this dress at such a ...       5   \n",
              "23482  It reminds me of maternity clothes. soft, stre...       3   \n",
              "23483  This fit well, but the top was very see throug...       3   \n",
              "23484  I bought this dress for a wedding i have this ...       3   \n",
              "23485  This dress in a lovely platinum is feminine an...       5   \n",
              "\n",
              "       Recommended IND  Positive Feedback Count   Division Name  \\\n",
              "0                    1                        0       Initmates   \n",
              "1                    1                        4         General   \n",
              "2                    0                        0         General   \n",
              "3                    1                        0  General Petite   \n",
              "4                    1                        6         General   \n",
              "...                ...                      ...             ...   \n",
              "23481                1                        0  General Petite   \n",
              "23482                1                        0  General Petite   \n",
              "23483                0                        1  General Petite   \n",
              "23484                1                        2         General   \n",
              "23485                1                       22  General Petite   \n",
              "\n",
              "      Department Name Class Name  \n",
              "0            Intimate  Intimates  \n",
              "1             Dresses    Dresses  \n",
              "2             Dresses    Dresses  \n",
              "3             Bottoms      Pants  \n",
              "4                Tops    Blouses  \n",
              "...               ...        ...  \n",
              "23481         Dresses    Dresses  \n",
              "23482            Tops      Knits  \n",
              "23483         Dresses    Dresses  \n",
              "23484         Dresses    Dresses  \n",
              "23485         Dresses    Dresses  \n",
              "\n",
              "[23486 rows x 11 columns]"
            ],
            "text/html": [
              "\n",
              "  <div id=\"df-4fb8041c-0415-40a2-b4a1-24b693136024\" class=\"colab-df-container\">\n",
              "    <div>\n",
              "<style scoped>\n",
              "    .dataframe tbody tr th:only-of-type {\n",
              "        vertical-align: middle;\n",
              "    }\n",
              "\n",
              "    .dataframe tbody tr th {\n",
              "        vertical-align: top;\n",
              "    }\n",
              "\n",
              "    .dataframe thead th {\n",
              "        text-align: right;\n",
              "    }\n",
              "</style>\n",
              "<table border=\"1\" class=\"dataframe\">\n",
              "  <thead>\n",
              "    <tr style=\"text-align: right;\">\n",
              "      <th></th>\n",
              "      <th>Unnamed: 0</th>\n",
              "      <th>Clothing ID</th>\n",
              "      <th>Age</th>\n",
              "      <th>Title</th>\n",
              "      <th>Review Text</th>\n",
              "      <th>Rating</th>\n",
              "      <th>Recommended IND</th>\n",
              "      <th>Positive Feedback Count</th>\n",
              "      <th>Division Name</th>\n",
              "      <th>Department Name</th>\n",
              "      <th>Class Name</th>\n",
              "    </tr>\n",
              "  </thead>\n",
              "  <tbody>\n",
              "    <tr>\n",
              "      <th>0</th>\n",
              "      <td>0</td>\n",
              "      <td>767</td>\n",
              "      <td>33</td>\n",
              "      <td>NaN</td>\n",
              "      <td>Absolutely wonderful - silky and sexy and comf...</td>\n",
              "      <td>4</td>\n",
              "      <td>1</td>\n",
              "      <td>0</td>\n",
              "      <td>Initmates</td>\n",
              "      <td>Intimate</td>\n",
              "      <td>Intimates</td>\n",
              "    </tr>\n",
              "    <tr>\n",
              "      <th>1</th>\n",
              "      <td>1</td>\n",
              "      <td>1080</td>\n",
              "      <td>34</td>\n",
              "      <td>NaN</td>\n",
              "      <td>Love this dress!  it's sooo pretty.  i happene...</td>\n",
              "      <td>5</td>\n",
              "      <td>1</td>\n",
              "      <td>4</td>\n",
              "      <td>General</td>\n",
              "      <td>Dresses</td>\n",
              "      <td>Dresses</td>\n",
              "    </tr>\n",
              "    <tr>\n",
              "      <th>2</th>\n",
              "      <td>2</td>\n",
              "      <td>1077</td>\n",
              "      <td>60</td>\n",
              "      <td>Some major design flaws</td>\n",
              "      <td>I had such high hopes for this dress and reall...</td>\n",
              "      <td>3</td>\n",
              "      <td>0</td>\n",
              "      <td>0</td>\n",
              "      <td>General</td>\n",
              "      <td>Dresses</td>\n",
              "      <td>Dresses</td>\n",
              "    </tr>\n",
              "    <tr>\n",
              "      <th>3</th>\n",
              "      <td>3</td>\n",
              "      <td>1049</td>\n",
              "      <td>50</td>\n",
              "      <td>My favorite buy!</td>\n",
              "      <td>I love, love, love this jumpsuit. it's fun, fl...</td>\n",
              "      <td>5</td>\n",
              "      <td>1</td>\n",
              "      <td>0</td>\n",
              "      <td>General Petite</td>\n",
              "      <td>Bottoms</td>\n",
              "      <td>Pants</td>\n",
              "    </tr>\n",
              "    <tr>\n",
              "      <th>4</th>\n",
              "      <td>4</td>\n",
              "      <td>847</td>\n",
              "      <td>47</td>\n",
              "      <td>Flattering shirt</td>\n",
              "      <td>This shirt is very flattering to all due to th...</td>\n",
              "      <td>5</td>\n",
              "      <td>1</td>\n",
              "      <td>6</td>\n",
              "      <td>General</td>\n",
              "      <td>Tops</td>\n",
              "      <td>Blouses</td>\n",
              "    </tr>\n",
              "    <tr>\n",
              "      <th>...</th>\n",
              "      <td>...</td>\n",
              "      <td>...</td>\n",
              "      <td>...</td>\n",
              "      <td>...</td>\n",
              "      <td>...</td>\n",
              "      <td>...</td>\n",
              "      <td>...</td>\n",
              "      <td>...</td>\n",
              "      <td>...</td>\n",
              "      <td>...</td>\n",
              "      <td>...</td>\n",
              "    </tr>\n",
              "    <tr>\n",
              "      <th>23481</th>\n",
              "      <td>23481</td>\n",
              "      <td>1104</td>\n",
              "      <td>34</td>\n",
              "      <td>Great dress for many occasions</td>\n",
              "      <td>I was very happy to snag this dress at such a ...</td>\n",
              "      <td>5</td>\n",
              "      <td>1</td>\n",
              "      <td>0</td>\n",
              "      <td>General Petite</td>\n",
              "      <td>Dresses</td>\n",
              "      <td>Dresses</td>\n",
              "    </tr>\n",
              "    <tr>\n",
              "      <th>23482</th>\n",
              "      <td>23482</td>\n",
              "      <td>862</td>\n",
              "      <td>48</td>\n",
              "      <td>Wish it was made of cotton</td>\n",
              "      <td>It reminds me of maternity clothes. soft, stre...</td>\n",
              "      <td>3</td>\n",
              "      <td>1</td>\n",
              "      <td>0</td>\n",
              "      <td>General Petite</td>\n",
              "      <td>Tops</td>\n",
              "      <td>Knits</td>\n",
              "    </tr>\n",
              "    <tr>\n",
              "      <th>23483</th>\n",
              "      <td>23483</td>\n",
              "      <td>1104</td>\n",
              "      <td>31</td>\n",
              "      <td>Cute, but see through</td>\n",
              "      <td>This fit well, but the top was very see throug...</td>\n",
              "      <td>3</td>\n",
              "      <td>0</td>\n",
              "      <td>1</td>\n",
              "      <td>General Petite</td>\n",
              "      <td>Dresses</td>\n",
              "      <td>Dresses</td>\n",
              "    </tr>\n",
              "    <tr>\n",
              "      <th>23484</th>\n",
              "      <td>23484</td>\n",
              "      <td>1084</td>\n",
              "      <td>28</td>\n",
              "      <td>Very cute dress, perfect for summer parties an...</td>\n",
              "      <td>I bought this dress for a wedding i have this ...</td>\n",
              "      <td>3</td>\n",
              "      <td>1</td>\n",
              "      <td>2</td>\n",
              "      <td>General</td>\n",
              "      <td>Dresses</td>\n",
              "      <td>Dresses</td>\n",
              "    </tr>\n",
              "    <tr>\n",
              "      <th>23485</th>\n",
              "      <td>23485</td>\n",
              "      <td>1104</td>\n",
              "      <td>52</td>\n",
              "      <td>Please make more like this one!</td>\n",
              "      <td>This dress in a lovely platinum is feminine an...</td>\n",
              "      <td>5</td>\n",
              "      <td>1</td>\n",
              "      <td>22</td>\n",
              "      <td>General Petite</td>\n",
              "      <td>Dresses</td>\n",
              "      <td>Dresses</td>\n",
              "    </tr>\n",
              "  </tbody>\n",
              "</table>\n",
              "<p>23486 rows × 11 columns</p>\n",
              "</div>\n",
              "    <div class=\"colab-df-buttons\">\n",
              "\n",
              "  <div class=\"colab-df-container\">\n",
              "    <button class=\"colab-df-convert\" onclick=\"convertToInteractive('df-4fb8041c-0415-40a2-b4a1-24b693136024')\"\n",
              "            title=\"Convert this dataframe to an interactive table.\"\n",
              "            style=\"display:none;\">\n",
              "\n",
              "  <svg xmlns=\"http://www.w3.org/2000/svg\" height=\"24px\" viewBox=\"0 -960 960 960\">\n",
              "    <path d=\"M120-120v-720h720v720H120Zm60-500h600v-160H180v160Zm220 220h160v-160H400v160Zm0 220h160v-160H400v160ZM180-400h160v-160H180v160Zm440 0h160v-160H620v160ZM180-180h160v-160H180v160Zm440 0h160v-160H620v160Z\"/>\n",
              "  </svg>\n",
              "    </button>\n",
              "\n",
              "  <style>\n",
              "    .colab-df-container {\n",
              "      display:flex;\n",
              "      gap: 12px;\n",
              "    }\n",
              "\n",
              "    .colab-df-convert {\n",
              "      background-color: #E8F0FE;\n",
              "      border: none;\n",
              "      border-radius: 50%;\n",
              "      cursor: pointer;\n",
              "      display: none;\n",
              "      fill: #1967D2;\n",
              "      height: 32px;\n",
              "      padding: 0 0 0 0;\n",
              "      width: 32px;\n",
              "    }\n",
              "\n",
              "    .colab-df-convert:hover {\n",
              "      background-color: #E2EBFA;\n",
              "      box-shadow: 0px 1px 2px rgba(60, 64, 67, 0.3), 0px 1px 3px 1px rgba(60, 64, 67, 0.15);\n",
              "      fill: #174EA6;\n",
              "    }\n",
              "\n",
              "    .colab-df-buttons div {\n",
              "      margin-bottom: 4px;\n",
              "    }\n",
              "\n",
              "    [theme=dark] .colab-df-convert {\n",
              "      background-color: #3B4455;\n",
              "      fill: #D2E3FC;\n",
              "    }\n",
              "\n",
              "    [theme=dark] .colab-df-convert:hover {\n",
              "      background-color: #434B5C;\n",
              "      box-shadow: 0px 1px 3px 1px rgba(0, 0, 0, 0.15);\n",
              "      filter: drop-shadow(0px 1px 2px rgba(0, 0, 0, 0.3));\n",
              "      fill: #FFFFFF;\n",
              "    }\n",
              "  </style>\n",
              "\n",
              "    <script>\n",
              "      const buttonEl =\n",
              "        document.querySelector('#df-4fb8041c-0415-40a2-b4a1-24b693136024 button.colab-df-convert');\n",
              "      buttonEl.style.display =\n",
              "        google.colab.kernel.accessAllowed ? 'block' : 'none';\n",
              "\n",
              "      async function convertToInteractive(key) {\n",
              "        const element = document.querySelector('#df-4fb8041c-0415-40a2-b4a1-24b693136024');\n",
              "        const dataTable =\n",
              "          await google.colab.kernel.invokeFunction('convertToInteractive',\n",
              "                                                    [key], {});\n",
              "        if (!dataTable) return;\n",
              "\n",
              "        const docLinkHtml = 'Like what you see? Visit the ' +\n",
              "          '<a target=\"_blank\" href=https://colab.research.google.com/notebooks/data_table.ipynb>data table notebook</a>'\n",
              "          + ' to learn more about interactive tables.';\n",
              "        element.innerHTML = '';\n",
              "        dataTable['output_type'] = 'display_data';\n",
              "        await google.colab.output.renderOutput(dataTable, element);\n",
              "        const docLink = document.createElement('div');\n",
              "        docLink.innerHTML = docLinkHtml;\n",
              "        element.appendChild(docLink);\n",
              "      }\n",
              "    </script>\n",
              "  </div>\n",
              "\n",
              "\n",
              "<div id=\"df-c8f30e19-0365-4716-8c92-342dfde5a07f\">\n",
              "  <button class=\"colab-df-quickchart\" onclick=\"quickchart('df-c8f30e19-0365-4716-8c92-342dfde5a07f')\"\n",
              "            title=\"Suggest charts\"\n",
              "            style=\"display:none;\">\n",
              "\n",
              "<svg xmlns=\"http://www.w3.org/2000/svg\" height=\"24px\"viewBox=\"0 0 24 24\"\n",
              "     width=\"24px\">\n",
              "    <g>\n",
              "        <path d=\"M19 3H5c-1.1 0-2 .9-2 2v14c0 1.1.9 2 2 2h14c1.1 0 2-.9 2-2V5c0-1.1-.9-2-2-2zM9 17H7v-7h2v7zm4 0h-2V7h2v10zm4 0h-2v-4h2v4z\"/>\n",
              "    </g>\n",
              "</svg>\n",
              "  </button>\n",
              "\n",
              "<style>\n",
              "  .colab-df-quickchart {\n",
              "      --bg-color: #E8F0FE;\n",
              "      --fill-color: #1967D2;\n",
              "      --hover-bg-color: #E2EBFA;\n",
              "      --hover-fill-color: #174EA6;\n",
              "      --disabled-fill-color: #AAA;\n",
              "      --disabled-bg-color: #DDD;\n",
              "  }\n",
              "\n",
              "  [theme=dark] .colab-df-quickchart {\n",
              "      --bg-color: #3B4455;\n",
              "      --fill-color: #D2E3FC;\n",
              "      --hover-bg-color: #434B5C;\n",
              "      --hover-fill-color: #FFFFFF;\n",
              "      --disabled-bg-color: #3B4455;\n",
              "      --disabled-fill-color: #666;\n",
              "  }\n",
              "\n",
              "  .colab-df-quickchart {\n",
              "    background-color: var(--bg-color);\n",
              "    border: none;\n",
              "    border-radius: 50%;\n",
              "    cursor: pointer;\n",
              "    display: none;\n",
              "    fill: var(--fill-color);\n",
              "    height: 32px;\n",
              "    padding: 0;\n",
              "    width: 32px;\n",
              "  }\n",
              "\n",
              "  .colab-df-quickchart:hover {\n",
              "    background-color: var(--hover-bg-color);\n",
              "    box-shadow: 0 1px 2px rgba(60, 64, 67, 0.3), 0 1px 3px 1px rgba(60, 64, 67, 0.15);\n",
              "    fill: var(--button-hover-fill-color);\n",
              "  }\n",
              "\n",
              "  .colab-df-quickchart-complete:disabled,\n",
              "  .colab-df-quickchart-complete:disabled:hover {\n",
              "    background-color: var(--disabled-bg-color);\n",
              "    fill: var(--disabled-fill-color);\n",
              "    box-shadow: none;\n",
              "  }\n",
              "\n",
              "  .colab-df-spinner {\n",
              "    border: 2px solid var(--fill-color);\n",
              "    border-color: transparent;\n",
              "    border-bottom-color: var(--fill-color);\n",
              "    animation:\n",
              "      spin 1s steps(1) infinite;\n",
              "  }\n",
              "\n",
              "  @keyframes spin {\n",
              "    0% {\n",
              "      border-color: transparent;\n",
              "      border-bottom-color: var(--fill-color);\n",
              "      border-left-color: var(--fill-color);\n",
              "    }\n",
              "    20% {\n",
              "      border-color: transparent;\n",
              "      border-left-color: var(--fill-color);\n",
              "      border-top-color: var(--fill-color);\n",
              "    }\n",
              "    30% {\n",
              "      border-color: transparent;\n",
              "      border-left-color: var(--fill-color);\n",
              "      border-top-color: var(--fill-color);\n",
              "      border-right-color: var(--fill-color);\n",
              "    }\n",
              "    40% {\n",
              "      border-color: transparent;\n",
              "      border-right-color: var(--fill-color);\n",
              "      border-top-color: var(--fill-color);\n",
              "    }\n",
              "    60% {\n",
              "      border-color: transparent;\n",
              "      border-right-color: var(--fill-color);\n",
              "    }\n",
              "    80% {\n",
              "      border-color: transparent;\n",
              "      border-right-color: var(--fill-color);\n",
              "      border-bottom-color: var(--fill-color);\n",
              "    }\n",
              "    90% {\n",
              "      border-color: transparent;\n",
              "      border-bottom-color: var(--fill-color);\n",
              "    }\n",
              "  }\n",
              "</style>\n",
              "\n",
              "  <script>\n",
              "    async function quickchart(key) {\n",
              "      const quickchartButtonEl =\n",
              "        document.querySelector('#' + key + ' button');\n",
              "      quickchartButtonEl.disabled = true;  // To prevent multiple clicks.\n",
              "      quickchartButtonEl.classList.add('colab-df-spinner');\n",
              "      try {\n",
              "        const charts = await google.colab.kernel.invokeFunction(\n",
              "            'suggestCharts', [key], {});\n",
              "      } catch (error) {\n",
              "        console.error('Error during call to suggestCharts:', error);\n",
              "      }\n",
              "      quickchartButtonEl.classList.remove('colab-df-spinner');\n",
              "      quickchartButtonEl.classList.add('colab-df-quickchart-complete');\n",
              "    }\n",
              "    (() => {\n",
              "      let quickchartButtonEl =\n",
              "        document.querySelector('#df-c8f30e19-0365-4716-8c92-342dfde5a07f button');\n",
              "      quickchartButtonEl.style.display =\n",
              "        google.colab.kernel.accessAllowed ? 'block' : 'none';\n",
              "    })();\n",
              "  </script>\n",
              "</div>\n",
              "\n",
              "  <div id=\"id_4314ec79-bd7d-47be-b3d0-ba7d556d5a24\">\n",
              "    <style>\n",
              "      .colab-df-generate {\n",
              "        background-color: #E8F0FE;\n",
              "        border: none;\n",
              "        border-radius: 50%;\n",
              "        cursor: pointer;\n",
              "        display: none;\n",
              "        fill: #1967D2;\n",
              "        height: 32px;\n",
              "        padding: 0 0 0 0;\n",
              "        width: 32px;\n",
              "      }\n",
              "\n",
              "      .colab-df-generate:hover {\n",
              "        background-color: #E2EBFA;\n",
              "        box-shadow: 0px 1px 2px rgba(60, 64, 67, 0.3), 0px 1px 3px 1px rgba(60, 64, 67, 0.15);\n",
              "        fill: #174EA6;\n",
              "      }\n",
              "\n",
              "      [theme=dark] .colab-df-generate {\n",
              "        background-color: #3B4455;\n",
              "        fill: #D2E3FC;\n",
              "      }\n",
              "\n",
              "      [theme=dark] .colab-df-generate:hover {\n",
              "        background-color: #434B5C;\n",
              "        box-shadow: 0px 1px 3px 1px rgba(0, 0, 0, 0.15);\n",
              "        filter: drop-shadow(0px 1px 2px rgba(0, 0, 0, 0.3));\n",
              "        fill: #FFFFFF;\n",
              "      }\n",
              "    </style>\n",
              "    <button class=\"colab-df-generate\" onclick=\"generateWithVariable('df')\"\n",
              "            title=\"Generate code using this dataframe.\"\n",
              "            style=\"display:none;\">\n",
              "\n",
              "  <svg xmlns=\"http://www.w3.org/2000/svg\" height=\"24px\"viewBox=\"0 0 24 24\"\n",
              "       width=\"24px\">\n",
              "    <path d=\"M7,19H8.4L18.45,9,17,7.55,7,17.6ZM5,21V16.75L18.45,3.32a2,2,0,0,1,2.83,0l1.4,1.43a1.91,1.91,0,0,1,.58,1.4,1.91,1.91,0,0,1-.58,1.4L9.25,21ZM18.45,9,17,7.55Zm-12,3A5.31,5.31,0,0,0,4.9,8.1,5.31,5.31,0,0,0,1,6.5,5.31,5.31,0,0,0,4.9,4.9,5.31,5.31,0,0,0,6.5,1,5.31,5.31,0,0,0,8.1,4.9,5.31,5.31,0,0,0,12,6.5,5.46,5.46,0,0,0,6.5,12Z\"/>\n",
              "  </svg>\n",
              "    </button>\n",
              "    <script>\n",
              "      (() => {\n",
              "      const buttonEl =\n",
              "        document.querySelector('#id_4314ec79-bd7d-47be-b3d0-ba7d556d5a24 button.colab-df-generate');\n",
              "      buttonEl.style.display =\n",
              "        google.colab.kernel.accessAllowed ? 'block' : 'none';\n",
              "\n",
              "      buttonEl.onclick = () => {\n",
              "        google.colab.notebook.generateWithVariable('df');\n",
              "      }\n",
              "      })();\n",
              "    </script>\n",
              "  </div>\n",
              "\n",
              "    </div>\n",
              "  </div>\n"
            ],
            "application/vnd.google.colaboratory.intrinsic+json": {
              "type": "dataframe",
              "variable_name": "df",
              "summary": "{\n  \"name\": \"df\",\n  \"rows\": 23486,\n  \"fields\": [\n    {\n      \"column\": \"Unnamed: 0\",\n      \"properties\": {\n        \"dtype\": \"number\",\n        \"std\": 6779,\n        \"min\": 0,\n        \"max\": 23485,\n        \"num_unique_values\": 23486,\n        \"samples\": [\n          1297,\n          7228,\n          21410\n        ],\n        \"semantic_type\": \"\",\n        \"description\": \"\"\n      }\n    },\n    {\n      \"column\": \"Clothing ID\",\n      \"properties\": {\n        \"dtype\": \"number\",\n        \"std\": 203,\n        \"min\": 0,\n        \"max\": 1205,\n        \"num_unique_values\": 1206,\n        \"samples\": [\n          835,\n          753,\n          93\n        ],\n        \"semantic_type\": \"\",\n        \"description\": \"\"\n      }\n    },\n    {\n      \"column\": \"Age\",\n      \"properties\": {\n        \"dtype\": \"number\",\n        \"std\": 12,\n        \"min\": 18,\n        \"max\": 99,\n        \"num_unique_values\": 77,\n        \"samples\": [\n          47,\n          62,\n          41\n        ],\n        \"semantic_type\": \"\",\n        \"description\": \"\"\n      }\n    },\n    {\n      \"column\": \"Title\",\n      \"properties\": {\n        \"dtype\": \"string\",\n        \"num_unique_values\": 13993,\n        \"samples\": [\n          \"Colorful, pretty shirt\",\n          \"Unique soft and comfy fall top\",\n          \"Great fitting jean.\"\n        ],\n        \"semantic_type\": \"\",\n        \"description\": \"\"\n      }\n    },\n    {\n      \"column\": \"Review Text\",\n      \"properties\": {\n        \"dtype\": \"string\",\n        \"num_unique_values\": 22634,\n        \"samples\": [\n          \"This top is really pretty and nice quality. runs big - i went down a size, and its perfect. coloring is more subtle in person than in the photo.\",\n          \"I was so excited to splurge on a mara hoffman suit and was sorely disappointed when i received this suit in the mail. i'm petite and fairly curvy, so i knew it would likely be a little long in the torso but the whole suit was so oddly shaped, i couldn't imagine anyone it would fit. the square shape in between the halter pieces is awkward, and the pieces that are supposed to hold your chest are super wide and loose.\",\n          \"Got so many complements! really comfy but runs big! i'm usually a large and i wish i had gotten the small.\"\n        ],\n        \"semantic_type\": \"\",\n        \"description\": \"\"\n      }\n    },\n    {\n      \"column\": \"Rating\",\n      \"properties\": {\n        \"dtype\": \"number\",\n        \"std\": 1,\n        \"min\": 1,\n        \"max\": 5,\n        \"num_unique_values\": 5,\n        \"samples\": [\n          5,\n          1,\n          3\n        ],\n        \"semantic_type\": \"\",\n        \"description\": \"\"\n      }\n    },\n    {\n      \"column\": \"Recommended IND\",\n      \"properties\": {\n        \"dtype\": \"number\",\n        \"std\": 0,\n        \"min\": 0,\n        \"max\": 1,\n        \"num_unique_values\": 2,\n        \"samples\": [\n          0,\n          1\n        ],\n        \"semantic_type\": \"\",\n        \"description\": \"\"\n      }\n    },\n    {\n      \"column\": \"Positive Feedback Count\",\n      \"properties\": {\n        \"dtype\": \"number\",\n        \"std\": 5,\n        \"min\": 0,\n        \"max\": 122,\n        \"num_unique_values\": 82,\n        \"samples\": [\n          21,\n          0\n        ],\n        \"semantic_type\": \"\",\n        \"description\": \"\"\n      }\n    },\n    {\n      \"column\": \"Division Name\",\n      \"properties\": {\n        \"dtype\": \"category\",\n        \"num_unique_values\": 3,\n        \"samples\": [\n          \"Initmates\",\n          \"General\"\n        ],\n        \"semantic_type\": \"\",\n        \"description\": \"\"\n      }\n    },\n    {\n      \"column\": \"Department Name\",\n      \"properties\": {\n        \"dtype\": \"category\",\n        \"num_unique_values\": 6,\n        \"samples\": [\n          \"Intimate\",\n          \"Dresses\"\n        ],\n        \"semantic_type\": \"\",\n        \"description\": \"\"\n      }\n    },\n    {\n      \"column\": \"Class Name\",\n      \"properties\": {\n        \"dtype\": \"category\",\n        \"num_unique_values\": 20,\n        \"samples\": [\n          \"Intimates\",\n          \"Layering\"\n        ],\n        \"semantic_type\": \"\",\n        \"description\": \"\"\n      }\n    }\n  ]\n}"
            }
          },
          "metadata": {},
          "execution_count": 3
        }
      ],
      "source": [
        "df = pd.read_csv('ReviewTokoBaju.csv')\n",
        "df"
      ]
    },
    {
      "cell_type": "code",
      "source": [
        "print(df.columns)"
      ],
      "metadata": {
        "colab": {
          "base_uri": "https://localhost:8080/"
        },
        "id": "80x4ZmSYHoP6",
        "outputId": "126900c6-4c5f-46c0-a596-8d6aa67a9940"
      },
      "execution_count": null,
      "outputs": [
        {
          "output_type": "stream",
          "name": "stdout",
          "text": [
            "Index(['Unnamed: 0', 'Clothing ID', 'Age', 'Title', 'Review Text', 'Rating',\n",
            "       'Recommended IND', 'Positive Feedback Count', 'Division Name',\n",
            "       'Department Name', 'Class Name'],\n",
            "      dtype='object')\n"
          ]
        }
      ]
    },
    {
      "cell_type": "code",
      "source": [
        "# 2. Preprocessing - Data Cleaning\n",
        "df.dropna(subset=['Review Text', 'Recommended IND'], inplace=True)"
      ],
      "metadata": {
        "id": "AVTE763IHqaI"
      },
      "execution_count": null,
      "outputs": []
    },
    {
      "cell_type": "code",
      "source": [
        "# Selecting the features and label\n",
        "X = df['Review Text'].values\n",
        "y = df['Recommended IND'].values"
      ],
      "metadata": {
        "id": "d1Bje4W2HvJv"
      },
      "execution_count": null,
      "outputs": []
    },
    {
      "cell_type": "code",
      "source": [
        "# Label Encoding for the target column\n",
        "label_encoder = LabelEncoder()\n",
        "y = label_encoder.fit_transform(y)"
      ],
      "metadata": {
        "id": "zvl0T81pHxRm"
      },
      "execution_count": null,
      "outputs": []
    },
    {
      "cell_type": "code",
      "source": [
        "# Split the dataset into training and testing sets\n",
        "X_train, X_test, y_train, y_test = train_test_split(X, y, test_size=0.2, random_state=42)"
      ],
      "metadata": {
        "id": "pfnR1ODQHzm-"
      },
      "execution_count": null,
      "outputs": []
    },
    {
      "cell_type": "code",
      "source": [
        "# Tokenization and padding using Keras (for TensorFlow model)\n",
        "tokenizer = Tokenizer(num_words=5000)\n",
        "tokenizer.fit_on_texts(X_train)\n",
        "X_train_seq = tokenizer.texts_to_sequences(X_train)\n",
        "X_test_seq = tokenizer.texts_to_sequences(X_test)\n",
        "\n",
        "max_len = 100  # Max sequence length\n",
        "X_train_pad = pad_sequences(X_train_seq, maxlen=max_len)\n",
        "X_test_pad = pad_sequences(X_test_seq, maxlen=max_len)"
      ],
      "metadata": {
        "id": "UP88qzKgH3hm"
      },
      "execution_count": null,
      "outputs": []
    },
    {
      "cell_type": "code",
      "source": [
        "# Convert labels to tensor for PyTorch\n",
        "y_train_tensor = torch.tensor(y_train)\n",
        "y_test_tensor = torch.tensor(y_test)"
      ],
      "metadata": {
        "id": "lzcKgDGMH5qO"
      },
      "execution_count": null,
      "outputs": []
    },
    {
      "cell_type": "code",
      "source": [
        "# PyTorch Model with Embedding Layer (LSTM)\n",
        "class LSTMModel(nn.Module):\n",
        "    def __init__(self, vocab_size, embedding_dim, hidden_size, output_size):\n",
        "        super(LSTMModel, self).__init__()\n",
        "        self.embedding = nn.Embedding(vocab_size, embedding_dim)  # Embedding layer\n",
        "        self.lstm = nn.LSTM(embedding_dim, hidden_size, batch_first=True)\n",
        "        self.fc = nn.Linear(hidden_size, output_size)\n",
        "        self.sigmoid = nn.Sigmoid()\n",
        "\n",
        "    def forward(self, x):\n",
        "        x = self.embedding(x)  # Convert word indices into embeddings\n",
        "        out, (hn, cn) = self.lstm(x)  # LSTM layer\n",
        "        out = self.fc(out[:, -1, :])  # Taking the output of the last time step\n",
        "        return self.sigmoid(out)"
      ],
      "metadata": {
        "id": "lztmgX_5H7zr"
      },
      "execution_count": null,
      "outputs": []
    },
    {
      "cell_type": "code",
      "source": [
        "# Hyperparameters for LSTM Model\n",
        "vocab_size = 5000  # Number of unique words in the vocabulary (as defined in Tokenizer)\n",
        "embedding_dim = 128  # Dimensionality of embedding space\n",
        "hidden_size = 128  # Number of hidden units in LSTM\n",
        "output_size = 1  # Binary classification\n",
        "model = LSTMModel(vocab_size, embedding_dim, hidden_size, output_size)"
      ],
      "metadata": {
        "id": "kQouq3FFH-dm"
      },
      "execution_count": null,
      "outputs": []
    },
    {
      "cell_type": "code",
      "source": [
        "# Loss and optimizer\n",
        "criterion = nn.BCELoss()\n",
        "optimizer = torch.optim.Adam(model.parameters(), lr=0.001)"
      ],
      "metadata": {
        "id": "sVqXS3krIAsX"
      },
      "execution_count": null,
      "outputs": []
    },
    {
      "cell_type": "code",
      "source": [
        "# Training loop for PyTorch\n",
        "num_epochs = 10\n",
        "train_loss = []\n",
        "for epoch in range(num_epochs):\n",
        "    model.train()\n",
        "    optimizer.zero_grad()\n",
        "\n",
        "    # Convert data to tensor\n",
        "    inputs = torch.tensor(X_train_pad, dtype=torch.long)  # Use long type for word indices\n",
        "    targets = y_train_tensor.float().view(-1, 1)\n",
        "\n",
        "    # Forward pass\n",
        "    outputs = model(inputs)\n",
        "    loss = criterion(outputs, targets)\n",
        "\n",
        "    # Backward pass\n",
        "    loss.backward()\n",
        "    optimizer.step()\n",
        "\n",
        "    train_loss.append(loss.item())\n",
        "    if (epoch+1) % 1 == 0:\n",
        "        print(f'Epoch [{epoch+1}/{num_epochs}], Loss: {loss.item():.4f}')"
      ],
      "metadata": {
        "colab": {
          "base_uri": "https://localhost:8080/"
        },
        "id": "JE8JMugnIDlO",
        "outputId": "871a5f86-04d2-49d3-d269-ef58b0896772"
      },
      "execution_count": null,
      "outputs": [
        {
          "output_type": "stream",
          "name": "stdout",
          "text": [
            "Epoch [1/10], Loss: 0.7012\n",
            "Epoch [2/10], Loss: 0.6848\n",
            "Epoch [3/10], Loss: 0.6691\n",
            "Epoch [4/10], Loss: 0.6537\n",
            "Epoch [5/10], Loss: 0.6383\n",
            "Epoch [6/10], Loss: 0.6225\n",
            "Epoch [7/10], Loss: 0.6060\n",
            "Epoch [8/10], Loss: 0.5885\n",
            "Epoch [9/10], Loss: 0.5698\n",
            "Epoch [10/10], Loss: 0.5495\n"
          ]
        }
      ]
    },
    {
      "cell_type": "code",
      "source": [
        "# Evaluate on test set\n",
        "model.eval()\n",
        "with torch.no_grad():\n",
        "    test_inputs = torch.tensor(X_test_pad, dtype=torch.long)  # Use long type for word indices\n",
        "    test_outputs = model(test_inputs)\n",
        "    test_predictions = test_outputs.round().view(-1).numpy()"
      ],
      "metadata": {
        "id": "i-fkc8tqgv6H"
      },
      "execution_count": 27,
      "outputs": []
    },
    {
      "cell_type": "code",
      "source": [
        "# Compute additional metrics for PyTorch model\n",
        "accuracy = accuracy_score(y_test, test_predictions)\n",
        "precision = precision_score(y_test, test_predictions)\n",
        "recall = recall_score(y_test, test_predictions)\n",
        "f1 = f1_score(y_test, test_predictions)\n",
        "roc_auc = roc_auc_score(y_test, test_predictions)\n",
        "fpr, tpr, thresholds = roc_curve(y_test, test_predictions)\n",
        "\n",
        "# Print metrics for PyTorch\n",
        "print(f\"Accuracy (PyTorch): {accuracy:.4f}\")\n",
        "print(f\"Precision (PyTorch): {precision:.4f}\")\n",
        "print(f\"Recall (PyTorch): {recall:.4f}\")\n",
        "print(f\"F1-Score (PyTorch): {f1:.4f}\")\n",
        "print(f\"AUC (PyTorch): {roc_auc:.4f}\")"
      ],
      "metadata": {
        "colab": {
          "base_uri": "https://localhost:8080/"
        },
        "id": "sCUxRZ-Mg2OW",
        "outputId": "e3ebd19c-6fcd-499d-b7e8-8a379bfd9cf8"
      },
      "execution_count": 28,
      "outputs": [
        {
          "output_type": "stream",
          "name": "stdout",
          "text": [
            "Accuracy (PyTorch): 0.8192\n",
            "Precision (PyTorch): 0.8209\n",
            "Recall (PyTorch): 0.9973\n",
            "F1-Score (PyTorch): 0.9005\n",
            "AUC (PyTorch): 0.5005\n"
          ]
        }
      ]
    },
    {
      "cell_type": "code",
      "source": [
        "# Plot loss\n",
        "plt.plot(train_loss)\n",
        "plt.xlabel('Epochs')\n",
        "plt.ylabel('Loss')\n",
        "plt.title('Training Loss (PyTorch)')\n",
        "plt.show()"
      ],
      "metadata": {
        "colab": {
          "base_uri": "https://localhost:8080/",
          "height": 472
        },
        "id": "HCPhn0X1L1We",
        "outputId": "39fe5794-dc79-48df-daa5-8f13dd6142c5"
      },
      "execution_count": null,
      "outputs": [
        {
          "output_type": "display_data",
          "data": {
            "text/plain": [
              "<Figure size 640x480 with 1 Axes>"
            ],
            "image/png": "[encoded data removed]"
          },
          "metadata": {}
        }
      ]
    },
    {
      "cell_type": "code",
      "source": [
        "# Plot ROC curve for PyTorch\n",
        "plt.plot(fpr, tpr, label=f'AUC = {roc_auc:.4f}')\n",
        "plt.plot([0, 1], [0, 1], linestyle='--')\n",
        "plt.title('ROC Curve (PyTorch)')\n",
        "plt.xlabel('False Positive Rate')\n",
        "plt.ylabel('True Positive Rate')\n",
        "plt.legend()\n",
        "plt.show()"
      ],
      "metadata": {
        "colab": {
          "base_uri": "https://localhost:8080/",
          "height": 472
        },
        "id": "lr2E_zr0g7XO",
        "outputId": "9d3b00d9-e22b-4c9d-db4a-4d69c0fc96ed"
      },
      "execution_count": 29,
      "outputs": [
        {
          "output_type": "display_data",
          "data": {
            "text/plain": [
              "<Figure size 640x480 with 1 Axes>"
            ],
            "image/png": "[encoded data removed]"
          },
          "metadata": {}
        }
      ]
    },
    {
      "cell_type": "code",
      "source": [
        "# 4. TensorFlow Model (LSTM)\n",
        "model_tf = tf.keras.Sequential([\n",
        "    tf.keras.layers.Embedding(input_dim=5000, output_dim=128, input_length=max_len),\n",
        "    tf.keras.layers.LSTM(128),\n",
        "    tf.keras.layers.Dense(1, activation='sigmoid')\n",
        "])\n",
        "\n",
        "model_tf.compile(optimizer='adam', loss='binary_crossentropy', metrics=['accuracy'])"
      ],
      "metadata": {
        "colab": {
          "base_uri": "https://localhost:8080/"
        },
        "id": "KUXHpxmmL6DI",
        "outputId": "11f78707-2215-4507-cac2-ab8efd76a215"
      },
      "execution_count": null,
      "outputs": [
        {
          "output_type": "stream",
          "name": "stderr",
          "text": [
            "/usr/local/lib/python3.11/dist-packages/keras/src/layers/core/embedding.py:90: UserWarning: Argument `input_length` is deprecated. Just remove it.\n",
            "  warnings.warn(\n"
          ]
        }
      ]
    },
    {
      "cell_type": "code",
      "source": [
        "# Train the TensorFlow model\n",
        "history = model_tf.fit(X_train_pad, y_train, epochs=10, batch_size=32, validation_data=(X_test_pad, y_test))"
      ],
      "metadata": {
        "colab": {
          "base_uri": "https://localhost:8080/"
        },
        "id": "v1bB1eqWL9M4",
        "outputId": "fc7fc5d2-f72e-45d9-925e-272e26b1b560"
      },
      "execution_count": null,
      "outputs": [
        {
          "output_type": "stream",
          "name": "stdout",
          "text": [
            "Epoch 1/10\n",
            "\u001b[1m566/566\u001b[0m \u001b[32m━━━━━━━━━━━━━━━━━━━━\u001b[0m\u001b[37m\u001b[0m \u001b[1m8s\u001b[0m 8ms/step - accuracy: 0.8418 - loss: 0.3921 - val_accuracy: 0.8836 - val_loss: 0.2656\n",
            "Epoch 2/10\n",
            "\u001b[1m566/566\u001b[0m \u001b[32m━━━━━━━━━━━━━━━━━━━━\u001b[0m\u001b[37m\u001b[0m \u001b[1m4s\u001b[0m 7ms/step - accuracy: 0.9097 - loss: 0.2271 - val_accuracy: 0.8951 - val_loss: 0.2508\n",
            "Epoch 3/10\n",
            "\u001b[1m566/566\u001b[0m \u001b[32m━━━━━━━━━━━━━━━━━━━━\u001b[0m\u001b[37m\u001b[0m \u001b[1m4s\u001b[0m 7ms/step - accuracy: 0.9326 - loss: 0.1697 - val_accuracy: 0.8858 - val_loss: 0.2605\n",
            "Epoch 4/10\n",
            "\u001b[1m566/566\u001b[0m \u001b[32m━━━━━━━━━━━━━━━━━━━━\u001b[0m\u001b[37m\u001b[0m \u001b[1m4s\u001b[0m 7ms/step - accuracy: 0.9398 - loss: 0.1554 - val_accuracy: 0.8843 - val_loss: 0.2842\n",
            "Epoch 5/10\n",
            "\u001b[1m566/566\u001b[0m \u001b[32m━━━━━━━━━━━━━━━━━━━━\u001b[0m\u001b[37m\u001b[0m \u001b[1m4s\u001b[0m 7ms/step - accuracy: 0.9513 - loss: 0.1187 - val_accuracy: 0.8850 - val_loss: 0.3235\n",
            "Epoch 6/10\n",
            "\u001b[1m566/566\u001b[0m \u001b[32m━━━━━━━━━━━━━━━━━━━━\u001b[0m\u001b[37m\u001b[0m \u001b[1m4s\u001b[0m 7ms/step - accuracy: 0.9649 - loss: 0.0948 - val_accuracy: 0.8755 - val_loss: 0.3698\n",
            "Epoch 7/10\n",
            "\u001b[1m566/566\u001b[0m \u001b[32m━━━━━━━━━━━━━━━━━━━━\u001b[0m\u001b[37m\u001b[0m \u001b[1m4s\u001b[0m 7ms/step - accuracy: 0.9712 - loss: 0.0781 - val_accuracy: 0.8752 - val_loss: 0.3898\n",
            "Epoch 8/10\n",
            "\u001b[1m566/566\u001b[0m \u001b[32m━━━━━━━━━━━━━━━━━━━━\u001b[0m\u001b[37m\u001b[0m \u001b[1m4s\u001b[0m 7ms/step - accuracy: 0.9789 - loss: 0.0606 - val_accuracy: 0.8768 - val_loss: 0.4465\n",
            "Epoch 9/10\n",
            "\u001b[1m566/566\u001b[0m \u001b[32m━━━━━━━━━━━━━━━━━━━━\u001b[0m\u001b[37m\u001b[0m \u001b[1m4s\u001b[0m 7ms/step - accuracy: 0.9842 - loss: 0.0450 - val_accuracy: 0.8825 - val_loss: 0.5586\n",
            "Epoch 10/10\n",
            "\u001b[1m566/566\u001b[0m \u001b[32m━━━━━━━━━━━━━━━━━━━━\u001b[0m\u001b[37m\u001b[0m \u001b[1m4s\u001b[0m 7ms/step - accuracy: 0.9876 - loss: 0.0356 - val_accuracy: 0.8660 - val_loss: 0.5372\n"
          ]
        }
      ]
    },
    {
      "cell_type": "code",
      "source": [
        "# Plot training & validation accuracy and loss\n",
        "plt.plot(history.history['accuracy'], label='Train Accuracy')\n",
        "plt.plot(history.history['val_accuracy'], label='Test Accuracy')\n",
        "plt.title('Model Accuracy (TensorFlow)')\n",
        "plt.xlabel('Epochs')\n",
        "plt.ylabel('Accuracy')\n",
        "plt.legend()\n",
        "plt.show()\n",
        "\n",
        "plt.plot(history.history['loss'], label='Train Loss')\n",
        "plt.plot(history.history['val_loss'], label='Test Loss')\n",
        "plt.title('Model Loss (TensorFlow)')\n",
        "plt.xlabel('Epochs')\n",
        "plt.ylabel('Loss')\n",
        "plt.legend()\n",
        "plt.show()"
      ],
      "metadata": {
        "colab": {
          "base_uri": "https://localhost:8080/",
          "height": 927
        },
        "id": "6mmf2SWgcOJW",
        "outputId": "75274cea-06d6-4504-a996-19ce1d357026"
      },
      "execution_count": null,
      "outputs": [
        {
          "output_type": "display_data",
          "data": {
            "text/plain": [
              "<Figure size 640x480 with 1 Axes>"
            ],
            "image/png": "[encoded data removed]"
          },
          "metadata": {}
        },
        {
          "output_type": "display_data",
          "data": {
            "text/plain": [
              "<Figure size 640x480 with 1 Axes>"
            ],
            "image/png": "[encoded data removed]"
          },
          "metadata": {}
        }
      ]
    },
    {
      "cell_type": "code",
      "source": [
        "# 5. Evaluate Models - TensorFlow\n",
        "\n",
        "# Evaluate on test set\n",
        "test_loss, test_acc = model_tf.evaluate(X_test_pad, y_test)\n",
        "print(f\"Test Accuracy (TensorFlow): {test_acc:.4f}\")\n",
        "print(f\"Test Loss (TensorFlow): {test_loss:.4f}\")"
      ],
      "metadata": {
        "colab": {
          "base_uri": "https://localhost:8080/"
        },
        "id": "6aDsoPQ0cZum",
        "outputId": "96d04f81-753e-4477-e795-723b138810d5"
      },
      "execution_count": null,
      "outputs": [
        {
          "output_type": "stream",
          "name": "stdout",
          "text": [
            "\u001b[1m142/142\u001b[0m \u001b[32m━━━━━━━━━━━━━━━━━━━━\u001b[0m\u001b[37m\u001b[0m \u001b[1m1s\u001b[0m 4ms/step - accuracy: 0.8555 - loss: 0.5822\n",
            "Test Accuracy (TensorFlow): 0.8660\n",
            "Test Loss (TensorFlow): 0.5372\n"
          ]
        }
      ]
    },
    {
      "cell_type": "code",
      "source": [
        "# Predict the probabilities for the positive class\n",
        "y_pred_prob = model_tf.predict(X_test_pad)\n",
        "\n",
        "# Convert probabilities to binary predictions (threshold = 0.5)\n",
        "y_pred = (y_pred_prob > 0.5).astype(int)"
      ],
      "metadata": {
        "colab": {
          "base_uri": "https://localhost:8080/"
        },
        "id": "cFa8Su-lgFOZ",
        "outputId": "ca2ab807-77ea-48f2-db18-6425d22df002"
      },
      "execution_count": 24,
      "outputs": [
        {
          "output_type": "stream",
          "name": "stdout",
          "text": [
            "\u001b[1m142/142\u001b[0m \u001b[32m━━━━━━━━━━━━━━━━━━━━\u001b[0m\u001b[37m\u001b[0m \u001b[1m1s\u001b[0m 3ms/step\n"
          ]
        }
      ]
    },
    {
      "cell_type": "code",
      "source": [
        "# Compute additional metrics\n",
        "accuracy = accuracy_score(y_test, y_pred)\n",
        "precision = precision_score(y_test, y_pred)\n",
        "recall = recall_score(y_test, y_pred)\n",
        "f1 = f1_score(y_test, y_pred)\n",
        "roc_auc = roc_auc_score(y_test, y_pred_prob)\n",
        "fpr, tpr, thresholds = roc_curve(y_test, y_pred_prob)\n",
        "\n",
        "# Print metrics\n",
        "print(f\"Accuracy (TensorFlow): {accuracy:.4f}\")\n",
        "print(f\"Precision (TensorFlow): {precision:.4f}\")\n",
        "print(f\"Recall (TensorFlow): {recall:.4f}\")\n",
        "print(f\"F1-Score (TensorFlow): {f1:.4f}\")\n",
        "print(f\"AUC (TensorFlow): {roc_auc:.4f}\")"
      ],
      "metadata": {
        "colab": {
          "base_uri": "https://localhost:8080/"
        },
        "id": "9YJ1YuGygJXY",
        "outputId": "73571b49-e55a-450e-a5c0-de12d6e231fb"
      },
      "execution_count": 25,
      "outputs": [
        {
          "output_type": "stream",
          "name": "stdout",
          "text": [
            "Accuracy (TensorFlow): 0.8660\n",
            "Precision (TensorFlow): 0.9096\n",
            "Recall (TensorFlow): 0.9290\n",
            "F1-Score (TensorFlow): 0.9192\n",
            "AUC (TensorFlow): 0.8856\n"
          ]
        }
      ]
    },
    {
      "cell_type": "code",
      "source": [
        "# Plot ROC curve for TensorFlow\n",
        "plt.plot(fpr, tpr, label=f'AUC = {roc_auc:.4f}')\n",
        "plt.plot([0, 1], [0, 1], linestyle='--')\n",
        "plt.title('ROC Curve (TensorFlow)')\n",
        "plt.xlabel('False Positive Rate')\n",
        "plt.ylabel('True Positive Rate')\n",
        "plt.legend()\n",
        "plt.show()"
      ],
      "metadata": {
        "colab": {
          "base_uri": "https://localhost:8080/",
          "height": 472
        },
        "id": "X8H7zG4TgMUW",
        "outputId": "2a1f0406-aa36-4810-f6a5-925dc5ea5a41"
      },
      "execution_count": 26,
      "outputs": [
        {
          "output_type": "display_data",
          "data": {
            "text/plain": [
              "<Figure size 640x480 with 1 Axes>"
            ],
            "image/png": "[encoded data removed]"
          },
          "metadata": {}
        }
      ]
    },
    {
      "cell_type": "markdown",
      "source": [
        "# **Hasil Evaluasi Model:**\n",
        "\n",
        "| **Metrik**     | **Nilai (PyTorch)** | **Nilai (TensorFlow)** |\n",
        "|----------------|---------------------|------------------------|\n",
        "| **Accuracy**   | 0.8192              | 0.8660                 |\n",
        "| **Precision**  | 0.8209              | 0.9096                 |\n",
        "| **Recall**     | 0.9973              | 0.9290                 |\n",
        "| **F1-Score**   | 0.9005              | 0.9192                 |\n",
        "| **AUC**        | 0.5005              | 0.8856                 |\n",
        "\n",
        "#### **PyTorch**:\n",
        "- **Accuracy (PyTorch)**: 0.8192\n",
        "  - Akurasi menunjukkan seberapa banyak prediksi yang benar dari keseluruhan data uji. Dalam hal ini, model PyTorch berhasil memprediksi dengan benar sekitar 81.92% dari data yang diuji.\n",
        "\n",
        "- **Precision (PyTorch)**: 0.8209\n",
        "  - Precision mengukur berapa banyak dari prediksi positif yang benar-benar positif (True Positives). Artinya, dari semua prediksi positif yang dilakukan oleh model, sekitar 82.09% adalah benar. Precision yang tinggi menunjukkan bahwa model tidak banyak membuat prediksi positif yang salah (False Positives).\n",
        "\n",
        "- **Recall (PyTorch)**: 0.9973\n",
        "  - Recall mengukur seberapa banyak dari data yang sebenarnya positif yang berhasil diprediksi dengan benar oleh model. Model PyTorch memiliki recall yang sangat tinggi, yaitu 99.73%, yang berarti hampir semua contoh positif terdeteksi oleh model.\n",
        "\n",
        "- **F1-Score (PyTorch)**: 0.9005\n",
        "  - F1-Score adalah rata-rata harmonis dari Precision dan Recall. F1-Score yang lebih tinggi menunjukkan keseimbangan antara Precision dan Recall. Dalam hal ini, F1-Score sebesar 0.9005 menunjukkan bahwa model PyTorch memiliki keseimbangan yang baik antara meminimalkan False Positives dan False Negatives.\n",
        "\n",
        "- **AUC (PyTorch)**: 0.5005\n",
        "  - AUC (Area Under the Curve) mengukur kemampuan model untuk membedakan antara kelas positif dan negatif. AUC yang mendekati 1 menunjukkan model yang sangat baik dalam membedakan antara kelas positif dan negatif, sementara AUC yang mendekati 0.5 menunjukkan model yang hampir tidak lebih baik dari tebakan acak. Nilai AUC 0.5005 pada model PyTorch menunjukkan bahwa model ini hanya sedikit lebih baik daripada tebakan acak.\n",
        "\n",
        "#### **TensorFlow**:\n",
        "- **Accuracy (TensorFlow)**: 0.8660\n",
        "  - Akurasi model TensorFlow menunjukkan bahwa model ini berhasil memprediksi dengan benar sekitar 86.60% dari data uji. Ini menunjukkan kinerja yang lebih baik dibandingkan dengan model PyTorch.\n",
        "\n",
        "- **Precision (TensorFlow)**: 0.9096\n",
        "  - Precision yang tinggi (90.96%) menunjukkan bahwa model TensorFlow menghasilkan sedikit False Positives. Dari semua prediksi positif yang dilakukan, 90.96% adalah benar-benar positif.\n",
        "\n",
        "- **Recall (TensorFlow)**: 0.9290\n",
        "  - Recall sebesar 92.90% menunjukkan bahwa model TensorFlow berhasil mendeteksi hampir 93% dari semua contoh positif yang ada dalam data uji.\n",
        "\n",
        "- **F1-Score (TensorFlow)**: 0.9192\n",
        "  - F1-Score sebesar 0.9192 menunjukkan keseimbangan yang sangat baik antara Precision dan Recall pada model TensorFlow. Ini menunjukkan bahwa model berhasil menjaga keseimbangan antara tidak terlalu banyak False Positives dan tidak terlalu banyak False Negatives.\n",
        "\n",
        "- **AUC (TensorFlow)**: 0.8856\n",
        "  - AUC yang lebih tinggi pada model TensorFlow, yaitu 0.8856, menunjukkan bahwa model ini jauh lebih baik dalam membedakan antara kelas positif dan negatif dibandingkan model PyTorch. Model TensorFlow memiliki kemampuan yang sangat baik untuk memisahkan kedua kelas ini.\n",
        "\n",
        "---\n",
        "\n",
        "### Penjelasan untuk Setiap Persamaan Matematika:\n",
        "\n",
        "1. **Accuracy (Akurasi)**:\n",
        "   - **Persamaan**:\n",
        "  \n",
        "$$\\text{Accuracy} = \\frac{\\text{True Positives} + \\text{True Negatives}}{\\text{Total Samples}}$$\n",
        "\n",
        "\n",
        "Persamaan ini digunakan untuk menghitung akurasi, yang merupakan rasio antara jumlah prediksi yang benar (baik untuk kelas positif maupun negatif) terhadap total sampel yang diuji.\n",
        "     \n",
        "     - True Positives (TP): Jumlah prediksi yang benar untuk kelas positif.\n",
        "     - True Negatives (TN): Jumlah prediksi yang benar untuk kelas negatif.\n",
        "     - Total Samples: Jumlah total sampel dalam dataset uji.\n",
        "   \n",
        "   - Makna: Akurasi mengukur seberapa baik model dalam membuat prediksi yang benar, baik untuk kelas positif maupun negatif.\n",
        "\n",
        "2. **Precision**:\n",
        "   - **Persamaan**:\n",
        "     \n",
        "     $$\\text{Precision} = \\frac{\\text{True Positives}}{\\text{True Positives} + \\text{False Positives}}$$\n",
        "     \n",
        "     - False Positives (FP): Jumlah prediksi yang salah untuk kelas positif (model memprediksi positif padahal sebenarnya negatif).\n",
        "   \n",
        "   - Makna: Precision menunjukkan seberapa akurat model dalam memprediksi kelas positif. Precision yang tinggi berarti model jarang membuat kesalahan dalam memprediksi kelas positif.\n",
        "\n",
        "3. **Recall**:\n",
        "   - **Persamaan**:\n",
        "     \n",
        "     $$\\text{Recall} = \\frac{\\text{True Positives}}{\\text{True Positives} + \\text{False Negatives}}$$\n",
        "     \n",
        "     - False Negatives (FN): Jumlah prediksi yang salah untuk kelas negatif (model memprediksi negatif padahal sebenarnya positif).\n",
        "   \n",
        "   - Makna: Recall mengukur seberapa baik model dalam mendeteksi semua kelas positif yang sebenarnya. Recall yang tinggi berarti model sangat baik dalam mendeteksi kelas positif, meskipun ada kemungkinan memprediksi lebih banyak False Positives.\n",
        "\n",
        "4. **F1-Score**:\n",
        "   - **Persamaan**:\n",
        "     \n",
        "     $$\\text{F1-Score} = 2 \\times \\frac{\\text{Precision} \\times \\text{Recall}}{\\text{Precision} + \\text{Recall}}$$\n",
        "     \n",
        "   \n",
        "   - Makna: F1-Score adalah rata-rata harmonis antara Precision dan Recall. Ini digunakan untuk menilai keseimbangan antara Precision dan Recall, terutama ketika ada ketidakseimbangan kelas. F1-Score yang tinggi menunjukkan keseimbangan yang baik antara meminimalkan False Positives dan False Negatives.\n",
        "\n",
        "5. **AUC (Area Under the Curve)**:\n",
        "   - **Persamaan**: AUC dihitung sebagai area di bawah kurva ROC.\n",
        "     - ROC Curve adalah grafik yang menggambarkan hubungan antara True Positive Rate (TPR) dan False Positive Rate (FPR).\n",
        "     - TPR (True Positive Rate): Juga dikenal sebagai Recall.\n",
        "     - FPR (False Positive Rate): Dihitung sebagai:\n",
        "       \n",
        "       $$\\text{FPR} = \\frac{\\text{False Positives}}{\\text{False Positives} + \\text{True Negatives}}$$\n",
        "       \n",
        "   \n",
        "   - Makna: AUC mengukur kemampuan model dalam membedakan antara kelas positif dan negatif. AUC yang lebih tinggi menunjukkan kemampuan model yang lebih baik dalam membedakan kedua kelas ini.\n",
        "\n",
        "6. **ROC Curve**:\n",
        "   - **Persamaan**: ROC adalah grafik yang menggambarkan TPR vs FPR.\n",
        "     - TPR (True Positive Rate) atau Recall:\n",
        "       \n",
        "       $$\\text{TPR} = \\frac{\\text{True Positives}}{\\text{True Positives} + \\text{False Negatives}}$$\n",
        "       \n",
        "     - FPR (False Positive Rate):\n",
        "       \n",
        "       $$\\text{FPR} = \\frac{\\text{False Positives}}{\\text{False Positives} + \\text{True Negatives}}$$\n",
        "       \n",
        "   \n",
        "   - Makna: ROC Curve adalah alat visual yang menggambarkan trade-off antara True Positive Rate dan False Positive Rate di berbagai threshold. AUC yang lebih tinggi menunjukkan model yang lebih baik.\n",
        "\n",
        "---\n",
        "\n",
        "### Kesimpulan:\n",
        "- TensorFlow menunjukkan performa yang lebih baik daripada PyTorch, dengan AUC yang lebih tinggi, akurasi lebih baik, dan precision yang lebih tinggi.\n",
        "- PyTorch memiliki Recall yang sangat tinggi, yang berarti model ini sangat baik dalam mendeteksi contoh positif, namun AUC yang rendah menunjukkan bahwa model kurang baik dalam membedakan antara kelas positif dan negatif.\n",
        "- TensorFlow lebih seimbang dalam hal Precision dan Recall, dengan AUC yang menunjukkan kemampuan model untuk membedakan kedua kelas dengan lebih baik.\n",
        "\n",
        "Secara keseluruhan, model TensorFlow lebih baik dalam hal kinerja keseluruhan berdasarkan metrik yang diberikan, sementara model PyTorch memiliki performa yang sangat baik dalam hal deteksi kelas positif."
      ],
      "metadata": {
        "id": "QQawPmrjiQ4X"
      }
    }
  ]
}