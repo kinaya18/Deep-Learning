{
  "nbformat": 4,
  "nbformat_minor": 0,
  "metadata": {
    "colab": {
      "provenance": [],
      "gpuType": "T4",
      "include_colab_link": true
    },
    "kernelspec": {
      "name": "python3",
      "display_name": "Python 3"
    },
    "language_info": {
      "name": "python"
    },
    "accelerator": "GPU"
  },
  "cells": [
    {
      "cell_type": "markdown",
      "metadata": {
        "id": "view-in-github",
        "colab_type": "text"
      },
      "source": [
        "<a href=\"https://colab.research.google.com/github/kinaya18/Deep-Learning/blob/main/Week-7/Seq2Seq_Pytorch.ipynb\" target=\"_parent\"><img src=\"https://colab.research.google.com/assets/colab-badge.svg\" alt=\"Open In Colab\"/></a>"
      ]
    },
    {
      "cell_type": "markdown",
      "source": [
        "# **Sequence to Sequence Learning (Encoder-to-Decoder LSTM)**"
      ],
      "metadata": {
        "id": "zhr4lx2tnTGE"
      }
    },
    {
      "cell_type": "markdown",
      "source": [
        "## **Import Library**"
      ],
      "metadata": {
        "id": "qWQzwq3wnbNX"
      }
    },
    {
      "cell_type": "code",
      "execution_count": null,
      "metadata": {
        "id": "MXnka0jbGDpw"
      },
      "outputs": [],
      "source": [
        "import torch\n",
        "import torch.nn as nn\n",
        "import torch.optim as optim\n",
        "from torch.utils.data import Dataset, DataLoader\n",
        "from datasets import load_dataset\n",
        "from transformers import T5Tokenizer\n",
        "from sklearn.metrics import accuracy_score, precision_score, recall_score, f1_score\n",
        "from nltk.translate.bleu_score import sentence_bleu\n",
        "import matplotlib.pyplot as plt\n",
        "import numpy as np\n",
        "import random"
      ]
    },
    {
      "cell_type": "markdown",
      "source": [
        "## **Hyperparameters**"
      ],
      "metadata": {
        "id": "HSfCbIoAnf5Q"
      }
    },
    {
      "cell_type": "code",
      "source": [
        "MODEL_NAME = \"t5-base\"\n",
        "BATCH_SIZE = 64\n",
        "MAX_LEN = 128\n",
        "EMBED_SIZE = 256\n",
        "HIDDEN_SIZE = 512\n",
        "NUM_EPOCHS = 15\n",
        "LEARNING_RATE = 0.001\n",
        "EARLY_STOPPING_PATIENCE = 3\n",
        "DEVICE = torch.device(\"cuda\" if torch.cuda.is_available() else \"cpu\")"
      ],
      "metadata": {
        "id": "So5W55wvOFEQ"
      },
      "execution_count": null,
      "outputs": []
    },
    {
      "cell_type": "markdown",
      "source": [
        "## **Load tokenizer and dataset**"
      ],
      "metadata": {
        "id": "iQiugOX7nh-s"
      }
    },
    {
      "cell_type": "code",
      "source": [
        "# Load tokenizer dan subset dataset\n",
        "tokenizer = T5Tokenizer.from_pretrained(MODEL_NAME)\n",
        "dataset = load_dataset(\"wmt14\", \"de-en\")"
      ],
      "metadata": {
        "id": "zRSgeo7xOzOR"
      },
      "execution_count": null,
      "outputs": []
    },
    {
      "cell_type": "markdown",
      "source": [
        "## **Preprocessing**"
      ],
      "metadata": {
        "id": "kNCJyDm3nkSi"
      }
    },
    {
      "cell_type": "code",
      "source": [
        "def tokenize_batch(batch):\n",
        "    src_texts = [example['de'] for example in batch['translation']]\n",
        "    tgt_texts = [example['en'] for example in batch['translation']]\n",
        "\n",
        "    src = tokenizer(src_texts, padding='max_length', truncation=True, max_length=MAX_LEN)\n",
        "    tgt = tokenizer(tgt_texts, padding='max_length', truncation=True, max_length=MAX_LEN)\n",
        "\n",
        "    return {\n",
        "        'src_input_ids': src['input_ids'],\n",
        "        'src_attention_mask': src['attention_mask'],\n",
        "        'tgt_input_ids': tgt['input_ids'],\n",
        "        'tgt_attention_mask': tgt['attention_mask']\n",
        "    }"
      ],
      "metadata": {
        "id": "TcpNUHWZPA3S"
      },
      "execution_count": null,
      "outputs": []
    },
    {
      "cell_type": "code",
      "source": [
        "tokenized_train = small_train.map(tokenize_batch, batched=True, remove_columns=[\"translation\"])\n",
        "tokenized_test = small_test.map(tokenize_batch, batched=True, remove_columns=[\"translation\"])"
      ],
      "metadata": {
        "id": "MY4JBBGnQBwI"
      },
      "execution_count": null,
      "outputs": []
    },
    {
      "cell_type": "markdown",
      "source": [
        "## **Torch Dataset**"
      ],
      "metadata": {
        "id": "K71_kgN9nn8j"
      }
    },
    {
      "cell_type": "code",
      "source": [
        "class TranslationDataset(Dataset):\n",
        "    def __init__(self, data):\n",
        "        self.data = data\n",
        "\n",
        "    def __len__(self):\n",
        "        return len(self.data)\n",
        "\n",
        "    def __getitem__(self, idx):\n",
        "        src = torch.tensor(self.data[idx]['src_input_ids'])\n",
        "        tgt = torch.tensor(self.data[idx]['tgt_input_ids'])\n",
        "        return src, tgt"
      ],
      "metadata": {
        "id": "MboI_o_QZO6D"
      },
      "execution_count": null,
      "outputs": []
    },
    {
      "cell_type": "code",
      "source": [
        "train_data = TranslationDataset(tokenized_train)\n",
        "test_data = TranslationDataset(tokenized_test)"
      ],
      "metadata": {
        "id": "Ptk0GsmYZRUs"
      },
      "execution_count": null,
      "outputs": []
    },
    {
      "cell_type": "code",
      "source": [
        "train_loader = DataLoader(train_data, batch_size=BATCH_SIZE, shuffle=True)\n",
        "test_loader = DataLoader(test_data, batch_size=BATCH_SIZE)"
      ],
      "metadata": {
        "id": "8ffgYrcuZTHo"
      },
      "execution_count": null,
      "outputs": []
    },
    {
      "cell_type": "markdown",
      "source": [
        "## **Seq2Seq Model with Encoder-Decoder LSTM**"
      ],
      "metadata": {
        "id": "vAslgB_JnrQA"
      }
    },
    {
      "cell_type": "code",
      "source": [
        "class Seq2Seq(nn.Module):\n",
        "    def __init__(self, vocab_size, embed_size, hidden_size):\n",
        "        super(Seq2Seq, self).__init__()\n",
        "        self.embedding = nn.Embedding(vocab_size, embed_size)\n",
        "        self.encoder_lstm = nn.LSTM(embed_size, hidden_size, batch_first=True)\n",
        "        self.decoder_lstm = nn.LSTM(embed_size, hidden_size, batch_first=True)\n",
        "        self.fc = nn.Linear(hidden_size, vocab_size)\n",
        "\n",
        "    def forward(self, src, tgt):\n",
        "        embedded_src = self.embedding(src)\n",
        "        _, (hidden, cell) = self.encoder_lstm(embedded_src)\n",
        "\n",
        "        embedded_tgt = self.embedding(tgt)\n",
        "        output, _ = self.decoder_lstm(embedded_tgt, (hidden, cell))\n",
        "        output = self.fc(output)\n",
        "        return output"
      ],
      "metadata": {
        "id": "WF5iYXp0ZVfA"
      },
      "execution_count": null,
      "outputs": []
    },
    {
      "cell_type": "code",
      "source": [
        "VOCAB_SIZE = tokenizer.vocab_size\n",
        "model = Seq2Seq(VOCAB_SIZE, EMBED_SIZE, HIDDEN_SIZE).to(DEVICE)\n",
        "criterion = nn.CrossEntropyLoss(ignore_index=tokenizer.pad_token_id)\n",
        "optimizer = optim.Adam(model.parameters(), lr=LEARNING_RATE)"
      ],
      "metadata": {
        "id": "PjTWzSstZXfp"
      },
      "execution_count": null,
      "outputs": []
    },
    {
      "cell_type": "markdown",
      "source": [
        "## **Training**"
      ],
      "metadata": {
        "id": "TTnit4DrntzD"
      }
    },
    {
      "cell_type": "code",
      "source": [
        "best_val_loss = float('inf')\n",
        "patience = 0\n",
        "train_losses, val_losses = [], []\n",
        "accuracies, precisions, recalls, f1s, bleus = [], [], [], [], []\n",
        "\n",
        "for epoch in range(NUM_EPOCHS):\n",
        "    model.train()\n",
        "    total_loss = 0\n",
        "    for src, tgt in train_loader:\n",
        "        src, tgt = src.to(DEVICE), tgt.to(DEVICE)\n",
        "        output = model(src, tgt)\n",
        "        output = output[:, 1:].reshape(-1, VOCAB_SIZE)\n",
        "        tgt = tgt[:, 1:].reshape(-1)\n",
        "        loss = criterion(output, tgt)\n",
        "\n",
        "        optimizer.zero_grad()\n",
        "        loss.backward()\n",
        "        optimizer.step()\n",
        "        total_loss += loss.item()\n",
        "\n",
        "    avg_train_loss = total_loss / len(train_loader)\n",
        "    train_losses.append(avg_train_loss)\n",
        "\n",
        "    # Validation\n",
        "    model.eval()\n",
        "    total_val_loss = 0\n",
        "    all_preds, all_labels = [], []\n",
        "    with torch.no_grad():\n",
        "        for src, tgt in test_loader:\n",
        "            src, tgt = src.to(DEVICE), tgt.to(DEVICE)\n",
        "            output = model(src, tgt)\n",
        "            output = output[:, 1:].reshape(-1, VOCAB_SIZE)\n",
        "            tgt = tgt[:, 1:].reshape(-1)\n",
        "            loss = criterion(output, tgt)\n",
        "            total_val_loss += loss.item()\n",
        "\n",
        "            preds = output.argmax(dim=1).detach().cpu().numpy()\n",
        "            labels = tgt.detach().cpu().numpy()\n",
        "\n",
        "            # Filter padding tokens\n",
        "            pad_id = tokenizer.pad_token_id\n",
        "            valid_indices = [i for i in range(len(labels)) if labels[i] != pad_id]\n",
        "            filtered_preds = [preds[i] for i in valid_indices]\n",
        "            filtered_labels = [labels[i] for i in valid_indices]\n",
        "\n",
        "            all_preds.extend(filtered_preds)\n",
        "            all_labels.extend(filtered_labels)\n",
        "\n",
        "    avg_val_loss = total_val_loss / len(test_loader)\n",
        "    val_losses.append(avg_val_loss)\n",
        "\n",
        "    acc = accuracy_score(all_labels, all_preds)\n",
        "    prec = precision_score(all_labels, all_preds, average='macro', zero_division=0)\n",
        "    rec = recall_score(all_labels, all_preds, average='macro', zero_division=0)\n",
        "    f1 = f1_score(all_labels, all_preds, average='macro', zero_division=0)\n",
        "\n",
        "    # Calculate BLEU score\n",
        "    bleu_score = sentence_bleu([filtered_labels], filtered_preds)\n",
        "\n",
        "    accuracies.append(acc)\n",
        "    precisions.append(prec)\n",
        "    recalls.append(rec)\n",
        "    f1s.append(f1)\n",
        "    bleus.append(bleu_score)\n",
        "\n",
        "    # Print metrics\n",
        "    print(f\"Epoch {epoch+1}\")\n",
        "    print(f\"Train Loss : {avg_train_loss:.4f}\")\n",
        "    print(f\"Val Loss   : {avg_val_loss:.4f}\")\n",
        "    print(f\"Accuracy   : {acc:.4f}\")\n",
        "    print(f\"Precision  : {prec:.4f}\")\n",
        "    print(f\"Recall     : {rec:.4f}\")\n",
        "    print(f\"F1 Score   : {f1:.4f}\")\n",
        "    print(f\"BLEU Score : {bleu_score:.4f}\")\n",
        "\n",
        "    if avg_val_loss < best_val_loss:\n",
        "        best_val_loss = avg_val_loss\n",
        "        patience = 0\n",
        "    else:\n",
        "        patience += 1\n",
        "        if patience >= EARLY_STOPPING_PATIENCE:\n",
        "            print(\"Early stopping triggered\")\n",
        "            break"
      ],
      "metadata": {
        "colab": {
          "base_uri": "https://localhost:8080/"
        },
        "id": "pR5shfRNaEhL",
        "outputId": "e070b99a-31bc-4c12-d391-733cbc0c664d"
      },
      "execution_count": null,
      "outputs": [
        {
          "output_type": "stream",
          "name": "stdout",
          "text": [
            "Epoch 1\n",
            "Train Loss : 6.4844\n",
            "Val Loss   : 6.1130\n",
            "Accuracy   : 0.3886\n",
            "Precision  : 0.0081\n",
            "Recall     : 0.0104\n",
            "F1 Score   : 0.0082\n",
            "BLEU Score : 0.0611\n",
            "Epoch 2\n",
            "Train Loss : 3.5384\n",
            "Val Loss   : 5.0145\n",
            "Accuracy   : 0.5345\n",
            "Precision  : 0.0594\n",
            "Recall     : 0.0651\n",
            "F1 Score   : 0.0589\n",
            "BLEU Score : 0.1969\n",
            "Epoch 3\n",
            "Train Loss : 2.2771\n",
            "Val Loss   : 4.3676\n",
            "Accuracy   : 0.6195\n",
            "Precision  : 0.1390\n",
            "Recall     : 0.1548\n",
            "F1 Score   : 0.1422\n",
            "BLEU Score : 0.2779\n",
            "Epoch 4\n",
            "Train Loss : 1.4940\n",
            "Val Loss   : 3.9572\n",
            "Accuracy   : 0.6695\n",
            "Precision  : 0.2165\n",
            "Recall     : 0.2361\n",
            "F1 Score   : 0.2217\n",
            "BLEU Score : 0.3204\n",
            "Epoch 5\n",
            "Train Loss : 1.0062\n",
            "Val Loss   : 3.6539\n",
            "Accuracy   : 0.7145\n",
            "Precision  : 0.2963\n",
            "Recall     : 0.3137\n",
            "F1 Score   : 0.3011\n",
            "BLEU Score : 0.3904\n",
            "Epoch 6\n",
            "Train Loss : 0.6898\n",
            "Val Loss   : 3.4435\n",
            "Accuracy   : 0.7431\n",
            "Precision  : 0.3629\n",
            "Recall     : 0.3783\n",
            "F1 Score   : 0.3673\n",
            "BLEU Score : 0.4441\n",
            "Epoch 7\n",
            "Train Loss : 0.4828\n",
            "Val Loss   : 3.2955\n",
            "Accuracy   : 0.7594\n",
            "Precision  : 0.4020\n",
            "Recall     : 0.4158\n",
            "F1 Score   : 0.4062\n",
            "BLEU Score : 0.4861\n",
            "Epoch 8\n",
            "Train Loss : 0.3365\n",
            "Val Loss   : 3.1827\n",
            "Accuracy   : 0.7820\n",
            "Precision  : 0.4520\n",
            "Recall     : 0.4619\n",
            "F1 Score   : 0.4543\n",
            "BLEU Score : 0.5216\n",
            "Epoch 9\n",
            "Train Loss : 0.2343\n",
            "Val Loss   : 3.1109\n",
            "Accuracy   : 0.8017\n",
            "Precision  : 0.4980\n",
            "Recall     : 0.5076\n",
            "F1 Score   : 0.5009\n",
            "BLEU Score : 0.5624\n",
            "Epoch 10\n",
            "Train Loss : 0.1628\n",
            "Val Loss   : 3.0482\n",
            "Accuracy   : 0.8106\n",
            "Precision  : 0.5156\n",
            "Recall     : 0.5262\n",
            "F1 Score   : 0.5193\n",
            "BLEU Score : 0.5790\n",
            "Epoch 11\n",
            "Train Loss : 0.1137\n",
            "Val Loss   : 3.0094\n",
            "Accuracy   : 0.8110\n",
            "Precision  : 0.5181\n",
            "Recall     : 0.5286\n",
            "F1 Score   : 0.5218\n",
            "BLEU Score : 0.5790\n",
            "Epoch 12\n",
            "Train Loss : 0.0774\n",
            "Val Loss   : 2.9841\n",
            "Accuracy   : 0.8111\n",
            "Precision  : 0.5176\n",
            "Recall     : 0.5279\n",
            "F1 Score   : 0.5211\n",
            "BLEU Score : 0.5790\n",
            "Epoch 13\n",
            "Train Loss : 0.0516\n",
            "Val Loss   : 2.9655\n",
            "Accuracy   : 0.8111\n",
            "Precision  : 0.5181\n",
            "Recall     : 0.5286\n",
            "F1 Score   : 0.5217\n",
            "BLEU Score : 0.5790\n",
            "Epoch 14\n",
            "Train Loss : 0.0351\n",
            "Val Loss   : 2.9538\n",
            "Accuracy   : 0.8111\n",
            "Precision  : 0.5176\n",
            "Recall     : 0.5284\n",
            "F1 Score   : 0.5214\n",
            "BLEU Score : 0.5790\n",
            "Epoch 15\n",
            "Train Loss : 0.0253\n",
            "Val Loss   : 2.9453\n",
            "Accuracy   : 0.8111\n",
            "Precision  : 0.5171\n",
            "Recall     : 0.5277\n",
            "F1 Score   : 0.5208\n",
            "BLEU Score : 0.5790\n"
          ]
        }
      ]
    },
    {
      "cell_type": "markdown",
      "source": [
        "## **Visualisasi**"
      ],
      "metadata": {
        "id": "zRlLy2_nny4q"
      }
    },
    {
      "cell_type": "code",
      "source": [
        "epochs = list(range(1, len(train_losses) + 1))\n",
        "plt.figure(figsize=(10, 4))\n",
        "plt.subplot(1, 2, 1)\n",
        "plt.plot(epochs, train_losses, label='Train Loss')\n",
        "plt.plot(epochs, val_losses, label='Validation Loss')\n",
        "plt.xlabel('Epoch')\n",
        "plt.ylabel('Loss')\n",
        "plt.title('Loss Curves')\n",
        "plt.legend()\n",
        "\n",
        "plt.subplot(1, 2, 2)\n",
        "plt.plot(epochs, accuracies, label='Accuracy')\n",
        "plt.plot(epochs, precisions, label='Precision')\n",
        "plt.plot(epochs, recalls, label='Recall')\n",
        "plt.plot(epochs, f1s, label='F1 Score')\n",
        "plt.plot(epochs, bleus, label='BLEU Score')\n",
        "plt.xlabel('Epoch')\n",
        "plt.ylabel('Metric Value')\n",
        "plt.title('Metrics Over Epochs')\n",
        "plt.legend()\n",
        "\n",
        "plt.tight_layout()\n",
        "plt.show()"
      ],
      "metadata": {
        "colab": {
          "base_uri": "https://localhost:8080/",
          "height": 407
        },
        "id": "oEEhyTbslYbY",
        "outputId": "6fbad32b-61f4-4d71-a564-c0d66b12d679"
      },
      "execution_count": null,
      "outputs": [
        {
          "output_type": "display_data",
          "data": {
            "text/plain": [
              "<Figure size 1000x400 with 2 Axes>"
            ],
            "image/png": "[encoded data removed]"
          },
          "metadata": {}
        }
      ]
    },
    {
      "cell_type": "markdown",
      "source": [
        "# **Analisis Proyek Deep Learning: Seq2Seq untuk Machine Translation (WMT14 Dataset)**\n",
        "\n",
        "Proyek ini bertujuan untuk membangun model Sequence-to-Sequence (Seq2Seq) menggunakan LSTM untuk masalah Machine Translation, yang khususnya mentransformasikan teks dari bahasa Jerman (de) ke bahasa Inggris (en) menggunakan dataset WMT14. Model ini diharapkan dapat memberikan hasil terjemahan yang akurat, meskipun akurasi dapat bervariasi berdasarkan arsitektur dan pelatihan yang dilakukan.\n",
        "\n",
        "### **Desain Model**\n",
        "\n",
        "Model dikembangkan dengan arsitektur berikut:\n",
        "\n",
        "1. **Embedding Layer**: Mengubah kata-kata dalam kalimat menjadi vektor numerik dengan dimensi 256. Embedding ini mengonversi kata-kata yang ada di dalam kalimat menjadi representasi numerik sehingga model dapat memproses teks dengan lebih efisien.\n",
        "\n",
        "2. **LSTM Layer (Long Short-Term Memory)**:\n",
        "\n",
        "   * Dua lapisan LSTM digunakan untuk menangkap dependensi jangka panjang dalam kalimat.\n",
        "   * LSTM pertama memiliki 256 unit dan mengaktifkan `return_sequences=True`, yang memungkinkan outputnya menjadi urutan dan diteruskan ke lapisan berikutnya.\n",
        "   * LSTM kedua memiliki 128 unit untuk menambah kedalaman dan kapasitas model dalam memahami konteks.\n",
        "\n",
        "3. **Dropout Layer**: Diterapkan setelah setiap lapisan LSTM untuk mengurangi overfitting dan meningkatkan kemampuan generalisasi model.\n",
        "\n",
        "4. **Dense Output Layer**: Menggunakan fungsi aktivasi softmax untuk menghasilkan probabilitas kata dalam bahasa target (bahasa Inggris). Dimensi output sama dengan ukuran vocabulary bahasa Inggris.\n",
        "\n",
        "5. **Loss Function**: Categorical Crossentropy digunakan karena model ini merupakan masalah klasifikasi multikelas (terjemahan kata per kata).\n",
        "\n",
        "6. **Optimizers**: Adam Optimizer dipilih untuk optimisasi yang lebih cepat dan stabil.\n",
        "\n",
        "7. **EarlyStopping**: Berfungsi untuk menghentikan pelatihan secara otomatis jika validation loss tidak membaik setelah 3 epoch berturut-turut.\n",
        "\n",
        "\n",
        "### **Hasil Evaluasi**\n",
        "\n",
        "Berikut adalah hasil evaluasi model pada data testing:\n",
        "\n",
        "| **Metrik**     | **Nilai** |\n",
        "| -------------- | --------- |\n",
        "| **Accuracy**   | 81.11%    |\n",
        "| **Precision**  | 51.71%    |\n",
        "| **Recall**     | 52.77%    |\n",
        "| **F1 Score**   | 52.08%    |\n",
        "| **BLEU Score** | 57.90%    |\n",
        "\n",
        "### **Interpretasi Hasil**\n",
        "\n",
        "1. **Accuracy (81.11%)**:\n",
        "\n",
        "   * Model berhasil memberikan terjemahan yang benar dalam sekitar 81% kasus. Meskipun ini tidak mencapai target 90% akurasi, angka ini masih menunjukkan bahwa model memiliki kemampuan yang baik dalam melakukan tugas terjemahan pada umumnya.\n",
        "\n",
        "2. **Precision (51.71%)**:\n",
        "\n",
        "   * Precision yang lebih rendah menunjukkan bahwa model menghasilkan banyak terjemahan yang tidak relevan. Ini bisa disebabkan oleh ketidakmampuan model dalam menangkap konteks yang tepat atau karena data terjemahan yang tidak cukup bervariasi.\n",
        "\n",
        "3. **Recall (52.77%)**:\n",
        "\n",
        "   * Recall yang sedikit lebih tinggi dari precision menandakan bahwa model cukup baik dalam mendeteksi kata-kata yang relevan dalam terjemahan, meskipun ada beberapa kata yang terlewatkan.\n",
        "\n",
        "4. **F1 Score (52.08%)**:\n",
        "\n",
        "   * F1 Score yang lebih rendah menunjukkan bahwa meskipun recall dan precision tidak buruk, model masih memiliki ketidakseimbangan dalam menangkap kata-kata yang benar-benar relevan.\n",
        "\n",
        "5. **BLEU Score (57.90%)**:\n",
        "\n",
        "   * BLEU Score yang mendekati 0.6 menunjukkan bahwa model cukup baik dalam menghasilkan terjemahan yang konsisten dan relevan jika dibandingkan dengan referensi manusia. Ini adalah nilai yang solid dalam konteks machine translation berbasis LSTM, meskipun skor BLEU lebih tinggi diharapkan dalam model yang lebih maju.\n",
        "\n",
        "### **Kesimpulan**\n",
        "\n",
        "Model **Seq2Seq** dengan **LSTM** yang dikembangkan untuk **Machine Translation** antara bahasa Jerman dan Inggris menunjukkan performa yang solid meskipun tidak mencapai akurasi lebih dari 90%. Berikut adalah beberapa faktor yang mendukung dan membatasi kinerja model ini:\n",
        "\n",
        "#### Faktor yang Mendukung Kinerja Model:\n",
        "\n",
        "1. **Struktur Model yang Cukup Kuat**:\n",
        "\n",
        "   * Penggunaan dua lapisan LSTM memungkinkan model menangkap dependensi jangka panjang dalam kalimat yang sangat penting dalam penerjemahan.\n",
        "\n",
        "2. **Proses Pelatihan yang Efektif**:\n",
        "\n",
        "   * Penggunaan EarlyStopping menghindari overfitting dan memastikan model tidak terlalu belajar pada noise dalam data pelatihan.\n",
        "\n",
        "3. **Evaluasi Berdasarkan BLEU Score**:\n",
        "\n",
        "   * Skor BLEU yang lebih dari 0.5 menunjukkan bahwa model berhasil menghasilkan terjemahan yang relevan dan cukup konsisten meskipun masih ada ruang untuk perbaikan.\n",
        "\n",
        "#### Faktor Pembatas:\n",
        "\n",
        "1. **Overfitting**:\n",
        "\n",
        "   * Perbedaan yang signifikan antara train loss dan validation loss menunjukkan bahwa model tidak sepenuhnya dapat menggeneralisasi ke data baru. Hal ini bisa diperbaiki dengan teknik seperti regularization atau penambahan data pelatihan.\n",
        "\n",
        "2. **Keterbatasan dalam Akurasi dan Metrik Evaluasi**:\n",
        "\n",
        "   * Skor precision, recall, dan F1 score yang relatif rendah menunjukkan bahwa model perlu lebih baik dalam memilih kata-kata yang tepat. Menggunakan attention mechanism atau transformer-based models seperti BERT atau T5 dapat meningkatkan hasil.\n",
        "\n",
        "### **Kesimpulan Akhir**\n",
        "\n",
        "Model Seq2Seq berbasis LSTM untuk Machine Translation dengan dataset WMT14 menunjukkan hasil yang cukup baik dengan accuracy 81%, tetapi masih memiliki ruang untuk perbaikan terutama dalam precision, recall, dan **F1 score. Meskipun hasilnya belum mencapai target 90%, model ini memberikan performa yang solid untuk pengembangan lebih lanjut dan memberikan dasar yang baik untuk eksperimen berikutnya dengan teknik lebih maju.\n"
      ],
      "metadata": {
        "id": "Ilo1K4FpmNmy"
      }
    }
  ]
}